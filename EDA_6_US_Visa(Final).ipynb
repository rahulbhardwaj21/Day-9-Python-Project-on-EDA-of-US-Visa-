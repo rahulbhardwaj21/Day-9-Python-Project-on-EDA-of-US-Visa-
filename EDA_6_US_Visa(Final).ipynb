{
  "cells": [
    {
      "cell_type": "code",
      "execution_count": 85,
      "metadata": {
        "id": "eu3dlAw5JAND"
      },
      "outputs": [],
      "source": [
        "#Import Libraries\n",
        "import pandas as pd\n",
        "import numpy as np\n",
        "import matplotlib.pyplot as plt\n",
        "%matplotlib inline\n",
        "import seaborn as sns\n",
        "import plotly.express as px\n",
        "import plotly.graph_objects as go\n",
        "\n",
        "import warnings\n",
        "warnings.filterwarnings('ignore')"
      ]
    },
    {
      "cell_type": "code",
      "execution_count": 86,
      "metadata": {
        "id": "NI5n_p4FJPdS"
      },
      "outputs": [],
      "source": [
        "#Read CSV File using Pandas\n",
        "df = pd.read_csv('/content/us_perm_visas.csv')"
      ]
    },
    {
      "cell_type": "markdown",
      "source": [
        "#**Profile of Data (Basic Analysis of Data)**"
      ],
      "metadata": {
        "id": "uR_R9EPk0oX_"
      }
    },
    {
      "cell_type": "code",
      "execution_count": 87,
      "metadata": {
        "colab": {
          "base_uri": "https://localhost:8080/",
          "height": 429
        },
        "id": "JT-y_q4MJhAi",
        "outputId": "f8390489-c8d0-437a-e61f-af5bd3ec1b61"
      },
      "outputs": [
        {
          "output_type": "execute_result",
          "data": {
            "text/plain": [
              "  add_these_pw_job_title_9089 agent_city agent_firm_name agent_state  \\\n",
              "0                         NaN        NaN             NaN         NaN   \n",
              "1                         NaN        NaN             NaN         NaN   \n",
              "2                         NaN        NaN             NaN         NaN   \n",
              "3                         NaN        NaN             NaN         NaN   \n",
              "4                         NaN        NaN             NaN         NaN   \n",
              "\n",
              "  application_type        case_no case_number case_received_date case_status  \\\n",
              "0             PERM  A-07323-97014         NaN                NaN   Certified   \n",
              "1             PERM  A-07332-99439         NaN                NaN      Denied   \n",
              "2             PERM  A-07333-99643         NaN                NaN   Certified   \n",
              "3             PERM  A-07339-01930         NaN                NaN   Certified   \n",
              "4             PERM  A-07345-03565         NaN                NaN   Certified   \n",
              "\n",
              "  class_of_admission  ... ri_pvt_employment_firm_to ri_us_workers_considered  \\\n",
              "0                J-1  ...                       NaN                      NaN   \n",
              "1                B-2  ...                       NaN                      NaN   \n",
              "2               H-1B  ...                       NaN                      NaN   \n",
              "3                B-2  ...                       NaN                      NaN   \n",
              "4                L-1  ...                       NaN                      NaN   \n",
              "\n",
              "  schd_a_sheepherder     us_economic_sector wage_offer_from_9089  \\\n",
              "0                NaN                     IT              75629.0   \n",
              "1                NaN  Other Economic Sector              37024.0   \n",
              "2                NaN              Aerospace              47923.0   \n",
              "3                NaN  Other Economic Sector                10.97   \n",
              "4                NaN           Advanced Mfg             100000.0   \n",
              "\n",
              "  wage_offer_to_9089 wage_offer_unit_of_pay_9089 wage_offered_from_9089  \\\n",
              "0                NaN                          yr                    NaN   \n",
              "1                NaN                          yr                    NaN   \n",
              "2                NaN                          yr                    NaN   \n",
              "3                NaN                          hr                    NaN   \n",
              "4                NaN                          yr                    NaN   \n",
              "\n",
              "  wage_offered_to_9089  wage_offered_unit_of_pay_9089  \n",
              "0                  NaN                            NaN  \n",
              "1                  NaN                            NaN  \n",
              "2                  NaN                            NaN  \n",
              "3                  NaN                            NaN  \n",
              "4                  NaN                            NaN  \n",
              "\n",
              "[5 rows x 154 columns]"
            ],
            "text/html": [
              "\n",
              "  <div id=\"df-0dbbf6c9-2a85-4322-a3c0-d0d4fe7ed814\" class=\"colab-df-container\">\n",
              "    <div>\n",
              "<style scoped>\n",
              "    .dataframe tbody tr th:only-of-type {\n",
              "        vertical-align: middle;\n",
              "    }\n",
              "\n",
              "    .dataframe tbody tr th {\n",
              "        vertical-align: top;\n",
              "    }\n",
              "\n",
              "    .dataframe thead th {\n",
              "        text-align: right;\n",
              "    }\n",
              "</style>\n",
              "<table border=\"1\" class=\"dataframe\">\n",
              "  <thead>\n",
              "    <tr style=\"text-align: right;\">\n",
              "      <th></th>\n",
              "      <th>add_these_pw_job_title_9089</th>\n",
              "      <th>agent_city</th>\n",
              "      <th>agent_firm_name</th>\n",
              "      <th>agent_state</th>\n",
              "      <th>application_type</th>\n",
              "      <th>case_no</th>\n",
              "      <th>case_number</th>\n",
              "      <th>case_received_date</th>\n",
              "      <th>case_status</th>\n",
              "      <th>class_of_admission</th>\n",
              "      <th>...</th>\n",
              "      <th>ri_pvt_employment_firm_to</th>\n",
              "      <th>ri_us_workers_considered</th>\n",
              "      <th>schd_a_sheepherder</th>\n",
              "      <th>us_economic_sector</th>\n",
              "      <th>wage_offer_from_9089</th>\n",
              "      <th>wage_offer_to_9089</th>\n",
              "      <th>wage_offer_unit_of_pay_9089</th>\n",
              "      <th>wage_offered_from_9089</th>\n",
              "      <th>wage_offered_to_9089</th>\n",
              "      <th>wage_offered_unit_of_pay_9089</th>\n",
              "    </tr>\n",
              "  </thead>\n",
              "  <tbody>\n",
              "    <tr>\n",
              "      <th>0</th>\n",
              "      <td>NaN</td>\n",
              "      <td>NaN</td>\n",
              "      <td>NaN</td>\n",
              "      <td>NaN</td>\n",
              "      <td>PERM</td>\n",
              "      <td>A-07323-97014</td>\n",
              "      <td>NaN</td>\n",
              "      <td>NaN</td>\n",
              "      <td>Certified</td>\n",
              "      <td>J-1</td>\n",
              "      <td>...</td>\n",
              "      <td>NaN</td>\n",
              "      <td>NaN</td>\n",
              "      <td>NaN</td>\n",
              "      <td>IT</td>\n",
              "      <td>75629.0</td>\n",
              "      <td>NaN</td>\n",
              "      <td>yr</td>\n",
              "      <td>NaN</td>\n",
              "      <td>NaN</td>\n",
              "      <td>NaN</td>\n",
              "    </tr>\n",
              "    <tr>\n",
              "      <th>1</th>\n",
              "      <td>NaN</td>\n",
              "      <td>NaN</td>\n",
              "      <td>NaN</td>\n",
              "      <td>NaN</td>\n",
              "      <td>PERM</td>\n",
              "      <td>A-07332-99439</td>\n",
              "      <td>NaN</td>\n",
              "      <td>NaN</td>\n",
              "      <td>Denied</td>\n",
              "      <td>B-2</td>\n",
              "      <td>...</td>\n",
              "      <td>NaN</td>\n",
              "      <td>NaN</td>\n",
              "      <td>NaN</td>\n",
              "      <td>Other Economic Sector</td>\n",
              "      <td>37024.0</td>\n",
              "      <td>NaN</td>\n",
              "      <td>yr</td>\n",
              "      <td>NaN</td>\n",
              "      <td>NaN</td>\n",
              "      <td>NaN</td>\n",
              "    </tr>\n",
              "    <tr>\n",
              "      <th>2</th>\n",
              "      <td>NaN</td>\n",
              "      <td>NaN</td>\n",
              "      <td>NaN</td>\n",
              "      <td>NaN</td>\n",
              "      <td>PERM</td>\n",
              "      <td>A-07333-99643</td>\n",
              "      <td>NaN</td>\n",
              "      <td>NaN</td>\n",
              "      <td>Certified</td>\n",
              "      <td>H-1B</td>\n",
              "      <td>...</td>\n",
              "      <td>NaN</td>\n",
              "      <td>NaN</td>\n",
              "      <td>NaN</td>\n",
              "      <td>Aerospace</td>\n",
              "      <td>47923.0</td>\n",
              "      <td>NaN</td>\n",
              "      <td>yr</td>\n",
              "      <td>NaN</td>\n",
              "      <td>NaN</td>\n",
              "      <td>NaN</td>\n",
              "    </tr>\n",
              "    <tr>\n",
              "      <th>3</th>\n",
              "      <td>NaN</td>\n",
              "      <td>NaN</td>\n",
              "      <td>NaN</td>\n",
              "      <td>NaN</td>\n",
              "      <td>PERM</td>\n",
              "      <td>A-07339-01930</td>\n",
              "      <td>NaN</td>\n",
              "      <td>NaN</td>\n",
              "      <td>Certified</td>\n",
              "      <td>B-2</td>\n",
              "      <td>...</td>\n",
              "      <td>NaN</td>\n",
              "      <td>NaN</td>\n",
              "      <td>NaN</td>\n",
              "      <td>Other Economic Sector</td>\n",
              "      <td>10.97</td>\n",
              "      <td>NaN</td>\n",
              "      <td>hr</td>\n",
              "      <td>NaN</td>\n",
              "      <td>NaN</td>\n",
              "      <td>NaN</td>\n",
              "    </tr>\n",
              "    <tr>\n",
              "      <th>4</th>\n",
              "      <td>NaN</td>\n",
              "      <td>NaN</td>\n",
              "      <td>NaN</td>\n",
              "      <td>NaN</td>\n",
              "      <td>PERM</td>\n",
              "      <td>A-07345-03565</td>\n",
              "      <td>NaN</td>\n",
              "      <td>NaN</td>\n",
              "      <td>Certified</td>\n",
              "      <td>L-1</td>\n",
              "      <td>...</td>\n",
              "      <td>NaN</td>\n",
              "      <td>NaN</td>\n",
              "      <td>NaN</td>\n",
              "      <td>Advanced Mfg</td>\n",
              "      <td>100000.0</td>\n",
              "      <td>NaN</td>\n",
              "      <td>yr</td>\n",
              "      <td>NaN</td>\n",
              "      <td>NaN</td>\n",
              "      <td>NaN</td>\n",
              "    </tr>\n",
              "  </tbody>\n",
              "</table>\n",
              "<p>5 rows × 154 columns</p>\n",
              "</div>\n",
              "    <div class=\"colab-df-buttons\">\n",
              "\n",
              "  <div class=\"colab-df-container\">\n",
              "    <button class=\"colab-df-convert\" onclick=\"convertToInteractive('df-0dbbf6c9-2a85-4322-a3c0-d0d4fe7ed814')\"\n",
              "            title=\"Convert this dataframe to an interactive table.\"\n",
              "            style=\"display:none;\">\n",
              "\n",
              "  <svg xmlns=\"http://www.w3.org/2000/svg\" height=\"24px\" viewBox=\"0 -960 960 960\">\n",
              "    <path d=\"M120-120v-720h720v720H120Zm60-500h600v-160H180v160Zm220 220h160v-160H400v160Zm0 220h160v-160H400v160ZM180-400h160v-160H180v160Zm440 0h160v-160H620v160ZM180-180h160v-160H180v160Zm440 0h160v-160H620v160Z\"/>\n",
              "  </svg>\n",
              "    </button>\n",
              "\n",
              "  <style>\n",
              "    .colab-df-container {\n",
              "      display:flex;\n",
              "      gap: 12px;\n",
              "    }\n",
              "\n",
              "    .colab-df-convert {\n",
              "      background-color: #E8F0FE;\n",
              "      border: none;\n",
              "      border-radius: 50%;\n",
              "      cursor: pointer;\n",
              "      display: none;\n",
              "      fill: #1967D2;\n",
              "      height: 32px;\n",
              "      padding: 0 0 0 0;\n",
              "      width: 32px;\n",
              "    }\n",
              "\n",
              "    .colab-df-convert:hover {\n",
              "      background-color: #E2EBFA;\n",
              "      box-shadow: 0px 1px 2px rgba(60, 64, 67, 0.3), 0px 1px 3px 1px rgba(60, 64, 67, 0.15);\n",
              "      fill: #174EA6;\n",
              "    }\n",
              "\n",
              "    .colab-df-buttons div {\n",
              "      margin-bottom: 4px;\n",
              "    }\n",
              "\n",
              "    [theme=dark] .colab-df-convert {\n",
              "      background-color: #3B4455;\n",
              "      fill: #D2E3FC;\n",
              "    }\n",
              "\n",
              "    [theme=dark] .colab-df-convert:hover {\n",
              "      background-color: #434B5C;\n",
              "      box-shadow: 0px 1px 3px 1px rgba(0, 0, 0, 0.15);\n",
              "      filter: drop-shadow(0px 1px 2px rgba(0, 0, 0, 0.3));\n",
              "      fill: #FFFFFF;\n",
              "    }\n",
              "  </style>\n",
              "\n",
              "    <script>\n",
              "      const buttonEl =\n",
              "        document.querySelector('#df-0dbbf6c9-2a85-4322-a3c0-d0d4fe7ed814 button.colab-df-convert');\n",
              "      buttonEl.style.display =\n",
              "        google.colab.kernel.accessAllowed ? 'block' : 'none';\n",
              "\n",
              "      async function convertToInteractive(key) {\n",
              "        const element = document.querySelector('#df-0dbbf6c9-2a85-4322-a3c0-d0d4fe7ed814');\n",
              "        const dataTable =\n",
              "          await google.colab.kernel.invokeFunction('convertToInteractive',\n",
              "                                                    [key], {});\n",
              "        if (!dataTable) return;\n",
              "\n",
              "        const docLinkHtml = 'Like what you see? Visit the ' +\n",
              "          '<a target=\"_blank\" href=https://colab.research.google.com/notebooks/data_table.ipynb>data table notebook</a>'\n",
              "          + ' to learn more about interactive tables.';\n",
              "        element.innerHTML = '';\n",
              "        dataTable['output_type'] = 'display_data';\n",
              "        await google.colab.output.renderOutput(dataTable, element);\n",
              "        const docLink = document.createElement('div');\n",
              "        docLink.innerHTML = docLinkHtml;\n",
              "        element.appendChild(docLink);\n",
              "      }\n",
              "    </script>\n",
              "  </div>\n",
              "\n",
              "\n",
              "<div id=\"df-73d47252-2fae-4ccf-bd51-b7e97c7f64c0\">\n",
              "  <button class=\"colab-df-quickchart\" onclick=\"quickchart('df-73d47252-2fae-4ccf-bd51-b7e97c7f64c0')\"\n",
              "            title=\"Suggest charts\"\n",
              "            style=\"display:none;\">\n",
              "\n",
              "<svg xmlns=\"http://www.w3.org/2000/svg\" height=\"24px\"viewBox=\"0 0 24 24\"\n",
              "     width=\"24px\">\n",
              "    <g>\n",
              "        <path d=\"M19 3H5c-1.1 0-2 .9-2 2v14c0 1.1.9 2 2 2h14c1.1 0 2-.9 2-2V5c0-1.1-.9-2-2-2zM9 17H7v-7h2v7zm4 0h-2V7h2v10zm4 0h-2v-4h2v4z\"/>\n",
              "    </g>\n",
              "</svg>\n",
              "  </button>\n",
              "\n",
              "<style>\n",
              "  .colab-df-quickchart {\n",
              "      --bg-color: #E8F0FE;\n",
              "      --fill-color: #1967D2;\n",
              "      --hover-bg-color: #E2EBFA;\n",
              "      --hover-fill-color: #174EA6;\n",
              "      --disabled-fill-color: #AAA;\n",
              "      --disabled-bg-color: #DDD;\n",
              "  }\n",
              "\n",
              "  [theme=dark] .colab-df-quickchart {\n",
              "      --bg-color: #3B4455;\n",
              "      --fill-color: #D2E3FC;\n",
              "      --hover-bg-color: #434B5C;\n",
              "      --hover-fill-color: #FFFFFF;\n",
              "      --disabled-bg-color: #3B4455;\n",
              "      --disabled-fill-color: #666;\n",
              "  }\n",
              "\n",
              "  .colab-df-quickchart {\n",
              "    background-color: var(--bg-color);\n",
              "    border: none;\n",
              "    border-radius: 50%;\n",
              "    cursor: pointer;\n",
              "    display: none;\n",
              "    fill: var(--fill-color);\n",
              "    height: 32px;\n",
              "    padding: 0;\n",
              "    width: 32px;\n",
              "  }\n",
              "\n",
              "  .colab-df-quickchart:hover {\n",
              "    background-color: var(--hover-bg-color);\n",
              "    box-shadow: 0 1px 2px rgba(60, 64, 67, 0.3), 0 1px 3px 1px rgba(60, 64, 67, 0.15);\n",
              "    fill: var(--button-hover-fill-color);\n",
              "  }\n",
              "\n",
              "  .colab-df-quickchart-complete:disabled,\n",
              "  .colab-df-quickchart-complete:disabled:hover {\n",
              "    background-color: var(--disabled-bg-color);\n",
              "    fill: var(--disabled-fill-color);\n",
              "    box-shadow: none;\n",
              "  }\n",
              "\n",
              "  .colab-df-spinner {\n",
              "    border: 2px solid var(--fill-color);\n",
              "    border-color: transparent;\n",
              "    border-bottom-color: var(--fill-color);\n",
              "    animation:\n",
              "      spin 1s steps(1) infinite;\n",
              "  }\n",
              "\n",
              "  @keyframes spin {\n",
              "    0% {\n",
              "      border-color: transparent;\n",
              "      border-bottom-color: var(--fill-color);\n",
              "      border-left-color: var(--fill-color);\n",
              "    }\n",
              "    20% {\n",
              "      border-color: transparent;\n",
              "      border-left-color: var(--fill-color);\n",
              "      border-top-color: var(--fill-color);\n",
              "    }\n",
              "    30% {\n",
              "      border-color: transparent;\n",
              "      border-left-color: var(--fill-color);\n",
              "      border-top-color: var(--fill-color);\n",
              "      border-right-color: var(--fill-color);\n",
              "    }\n",
              "    40% {\n",
              "      border-color: transparent;\n",
              "      border-right-color: var(--fill-color);\n",
              "      border-top-color: var(--fill-color);\n",
              "    }\n",
              "    60% {\n",
              "      border-color: transparent;\n",
              "      border-right-color: var(--fill-color);\n",
              "    }\n",
              "    80% {\n",
              "      border-color: transparent;\n",
              "      border-right-color: var(--fill-color);\n",
              "      border-bottom-color: var(--fill-color);\n",
              "    }\n",
              "    90% {\n",
              "      border-color: transparent;\n",
              "      border-bottom-color: var(--fill-color);\n",
              "    }\n",
              "  }\n",
              "</style>\n",
              "\n",
              "  <script>\n",
              "    async function quickchart(key) {\n",
              "      const quickchartButtonEl =\n",
              "        document.querySelector('#' + key + ' button');\n",
              "      quickchartButtonEl.disabled = true;  // To prevent multiple clicks.\n",
              "      quickchartButtonEl.classList.add('colab-df-spinner');\n",
              "      try {\n",
              "        const charts = await google.colab.kernel.invokeFunction(\n",
              "            'suggestCharts', [key], {});\n",
              "      } catch (error) {\n",
              "        console.error('Error during call to suggestCharts:', error);\n",
              "      }\n",
              "      quickchartButtonEl.classList.remove('colab-df-spinner');\n",
              "      quickchartButtonEl.classList.add('colab-df-quickchart-complete');\n",
              "    }\n",
              "    (() => {\n",
              "      let quickchartButtonEl =\n",
              "        document.querySelector('#df-73d47252-2fae-4ccf-bd51-b7e97c7f64c0 button');\n",
              "      quickchartButtonEl.style.display =\n",
              "        google.colab.kernel.accessAllowed ? 'block' : 'none';\n",
              "    })();\n",
              "  </script>\n",
              "</div>\n",
              "\n",
              "    </div>\n",
              "  </div>\n"
            ],
            "application/vnd.google.colaboratory.intrinsic+json": {
              "type": "dataframe",
              "variable_name": "df"
            }
          },
          "metadata": {},
          "execution_count": 87
        }
      ],
      "source": [
        "df.head()"
      ]
    },
    {
      "cell_type": "code",
      "execution_count": 88,
      "metadata": {
        "colab": {
          "base_uri": "https://localhost:8080/"
        },
        "id": "VLlPRE_KJrwF",
        "outputId": "293e5080-ef7d-4850-c677-0d4c72e7744f"
      },
      "outputs": [
        {
          "output_type": "execute_result",
          "data": {
            "text/plain": [
              "(374362, 154)"
            ]
          },
          "metadata": {},
          "execution_count": 88
        }
      ],
      "source": [
        "df.shape"
      ]
    },
    {
      "cell_type": "code",
      "execution_count": 89,
      "metadata": {
        "colab": {
          "base_uri": "https://localhost:8080/",
          "height": 458
        },
        "id": "0ui0QwAaJygP",
        "outputId": "3e48b1f0-deb5-4c76-9b29-9e88c565bfae"
      },
      "outputs": [
        {
          "output_type": "execute_result",
          "data": {
            "text/plain": [
              "add_these_pw_job_title_9089       object\n",
              "agent_city                        object\n",
              "agent_firm_name                   object\n",
              "agent_state                       object\n",
              "application_type                  object\n",
              "                                  ...   \n",
              "wage_offer_to_9089                object\n",
              "wage_offer_unit_of_pay_9089       object\n",
              "wage_offered_from_9089           float64\n",
              "wage_offered_to_9089             float64\n",
              "wage_offered_unit_of_pay_9089     object\n",
              "Length: 154, dtype: object"
            ],
            "text/html": [
              "<div>\n",
              "<style scoped>\n",
              "    .dataframe tbody tr th:only-of-type {\n",
              "        vertical-align: middle;\n",
              "    }\n",
              "\n",
              "    .dataframe tbody tr th {\n",
              "        vertical-align: top;\n",
              "    }\n",
              "\n",
              "    .dataframe thead th {\n",
              "        text-align: right;\n",
              "    }\n",
              "</style>\n",
              "<table border=\"1\" class=\"dataframe\">\n",
              "  <thead>\n",
              "    <tr style=\"text-align: right;\">\n",
              "      <th></th>\n",
              "      <th>0</th>\n",
              "    </tr>\n",
              "  </thead>\n",
              "  <tbody>\n",
              "    <tr>\n",
              "      <th>add_these_pw_job_title_9089</th>\n",
              "      <td>object</td>\n",
              "    </tr>\n",
              "    <tr>\n",
              "      <th>agent_city</th>\n",
              "      <td>object</td>\n",
              "    </tr>\n",
              "    <tr>\n",
              "      <th>agent_firm_name</th>\n",
              "      <td>object</td>\n",
              "    </tr>\n",
              "    <tr>\n",
              "      <th>agent_state</th>\n",
              "      <td>object</td>\n",
              "    </tr>\n",
              "    <tr>\n",
              "      <th>application_type</th>\n",
              "      <td>object</td>\n",
              "    </tr>\n",
              "    <tr>\n",
              "      <th>...</th>\n",
              "      <td>...</td>\n",
              "    </tr>\n",
              "    <tr>\n",
              "      <th>wage_offer_to_9089</th>\n",
              "      <td>object</td>\n",
              "    </tr>\n",
              "    <tr>\n",
              "      <th>wage_offer_unit_of_pay_9089</th>\n",
              "      <td>object</td>\n",
              "    </tr>\n",
              "    <tr>\n",
              "      <th>wage_offered_from_9089</th>\n",
              "      <td>float64</td>\n",
              "    </tr>\n",
              "    <tr>\n",
              "      <th>wage_offered_to_9089</th>\n",
              "      <td>float64</td>\n",
              "    </tr>\n",
              "    <tr>\n",
              "      <th>wage_offered_unit_of_pay_9089</th>\n",
              "      <td>object</td>\n",
              "    </tr>\n",
              "  </tbody>\n",
              "</table>\n",
              "<p>154 rows × 1 columns</p>\n",
              "</div><br><label><b>dtype:</b> object</label>"
            ]
          },
          "metadata": {},
          "execution_count": 89
        }
      ],
      "source": [
        "df.dtypes"
      ]
    },
    {
      "cell_type": "code",
      "execution_count": 90,
      "metadata": {
        "colab": {
          "base_uri": "https://localhost:8080/",
          "height": 320
        },
        "id": "3Hms2qs1J14W",
        "outputId": "3ed391e6-dbb2-4a54-b90c-4b7662d427be"
      },
      "outputs": [
        {
          "output_type": "execute_result",
          "data": {
            "text/plain": [
              "       employer_num_employees  employer_yr_estab  \\\n",
              "count            2.390130e+05      238958.000000   \n",
              "mean             2.309387e+04        1984.208267   \n",
              "std              5.453129e+05          38.470555   \n",
              "min              0.000000e+00           0.000000   \n",
              "25%              7.300000e+01        1980.000000   \n",
              "50%              1.200000e+03        1996.000000   \n",
              "75%              1.613400e+04        2004.000000   \n",
              "max              2.635506e+08        2016.000000   \n",
              "\n",
              "       foreign_worker_yr_rel_edu_completed  fw_info_yr_rel_edu_completed  \\\n",
              "count                         83364.000000                 137198.000000   \n",
              "mean                           2001.345761                   2002.633603   \n",
              "std                              91.444715                     89.674423   \n",
              "min                               0.000000                      0.000000   \n",
              "25%                            2003.000000                   2004.000000   \n",
              "50%                            2006.000000                   2007.000000   \n",
              "75%                            2010.000000                   2011.000000   \n",
              "max                            2103.000000                   2207.000000   \n",
              "\n",
              "       job_info_alt_cmb_ed_oth_yrs  job_info_alt_occ_num_months  \\\n",
              "count                 70220.000000                147200.000000   \n",
              "mean                      4.593876                    36.483118   \n",
              "std                       4.838582                    23.391668   \n",
              "min                       0.000000                     0.000000   \n",
              "25%                       3.000000                    24.000000   \n",
              "50%                       5.000000                    24.000000   \n",
              "75%                       5.000000                    60.000000   \n",
              "max                      96.000000                   240.000000   \n",
              "\n",
              "       job_info_experience_num_months  job_info_training_num_months  \\\n",
              "count                   133188.000000                   4779.000000   \n",
              "mean                        33.103560                     32.685081   \n",
              "std                         22.733393                     20.593288   \n",
              "min                          0.000000                      0.000000   \n",
              "25%                         12.000000                     12.000000   \n",
              "50%                         24.000000                     36.000000   \n",
              "75%                         60.000000                     36.000000   \n",
              "max                        244.000000                    240.000000   \n",
              "\n",
              "       wage_offered_from_9089  wage_offered_to_9089  \n",
              "count            1.146470e+05          3.101500e+04  \n",
              "mean             9.588846e+04          1.232273e+05  \n",
              "std              1.463822e+05          1.080289e+05  \n",
              "min              6.700000e+00          0.000000e+00  \n",
              "25%              7.453400e+04          9.700100e+04  \n",
              "50%              9.064400e+04          1.206000e+05  \n",
              "75%              1.100000e+05          1.448419e+05  \n",
              "max              1.629060e+07          1.328500e+07  "
            ],
            "text/html": [
              "\n",
              "  <div id=\"df-473812ec-028c-4372-bff6-8f6418f40223\" class=\"colab-df-container\">\n",
              "    <div>\n",
              "<style scoped>\n",
              "    .dataframe tbody tr th:only-of-type {\n",
              "        vertical-align: middle;\n",
              "    }\n",
              "\n",
              "    .dataframe tbody tr th {\n",
              "        vertical-align: top;\n",
              "    }\n",
              "\n",
              "    .dataframe thead th {\n",
              "        text-align: right;\n",
              "    }\n",
              "</style>\n",
              "<table border=\"1\" class=\"dataframe\">\n",
              "  <thead>\n",
              "    <tr style=\"text-align: right;\">\n",
              "      <th></th>\n",
              "      <th>employer_num_employees</th>\n",
              "      <th>employer_yr_estab</th>\n",
              "      <th>foreign_worker_yr_rel_edu_completed</th>\n",
              "      <th>fw_info_yr_rel_edu_completed</th>\n",
              "      <th>job_info_alt_cmb_ed_oth_yrs</th>\n",
              "      <th>job_info_alt_occ_num_months</th>\n",
              "      <th>job_info_experience_num_months</th>\n",
              "      <th>job_info_training_num_months</th>\n",
              "      <th>wage_offered_from_9089</th>\n",
              "      <th>wage_offered_to_9089</th>\n",
              "    </tr>\n",
              "  </thead>\n",
              "  <tbody>\n",
              "    <tr>\n",
              "      <th>count</th>\n",
              "      <td>2.390130e+05</td>\n",
              "      <td>238958.000000</td>\n",
              "      <td>83364.000000</td>\n",
              "      <td>137198.000000</td>\n",
              "      <td>70220.000000</td>\n",
              "      <td>147200.000000</td>\n",
              "      <td>133188.000000</td>\n",
              "      <td>4779.000000</td>\n",
              "      <td>1.146470e+05</td>\n",
              "      <td>3.101500e+04</td>\n",
              "    </tr>\n",
              "    <tr>\n",
              "      <th>mean</th>\n",
              "      <td>2.309387e+04</td>\n",
              "      <td>1984.208267</td>\n",
              "      <td>2001.345761</td>\n",
              "      <td>2002.633603</td>\n",
              "      <td>4.593876</td>\n",
              "      <td>36.483118</td>\n",
              "      <td>33.103560</td>\n",
              "      <td>32.685081</td>\n",
              "      <td>9.588846e+04</td>\n",
              "      <td>1.232273e+05</td>\n",
              "    </tr>\n",
              "    <tr>\n",
              "      <th>std</th>\n",
              "      <td>5.453129e+05</td>\n",
              "      <td>38.470555</td>\n",
              "      <td>91.444715</td>\n",
              "      <td>89.674423</td>\n",
              "      <td>4.838582</td>\n",
              "      <td>23.391668</td>\n",
              "      <td>22.733393</td>\n",
              "      <td>20.593288</td>\n",
              "      <td>1.463822e+05</td>\n",
              "      <td>1.080289e+05</td>\n",
              "    </tr>\n",
              "    <tr>\n",
              "      <th>min</th>\n",
              "      <td>0.000000e+00</td>\n",
              "      <td>0.000000</td>\n",
              "      <td>0.000000</td>\n",
              "      <td>0.000000</td>\n",
              "      <td>0.000000</td>\n",
              "      <td>0.000000</td>\n",
              "      <td>0.000000</td>\n",
              "      <td>0.000000</td>\n",
              "      <td>6.700000e+00</td>\n",
              "      <td>0.000000e+00</td>\n",
              "    </tr>\n",
              "    <tr>\n",
              "      <th>25%</th>\n",
              "      <td>7.300000e+01</td>\n",
              "      <td>1980.000000</td>\n",
              "      <td>2003.000000</td>\n",
              "      <td>2004.000000</td>\n",
              "      <td>3.000000</td>\n",
              "      <td>24.000000</td>\n",
              "      <td>12.000000</td>\n",
              "      <td>12.000000</td>\n",
              "      <td>7.453400e+04</td>\n",
              "      <td>9.700100e+04</td>\n",
              "    </tr>\n",
              "    <tr>\n",
              "      <th>50%</th>\n",
              "      <td>1.200000e+03</td>\n",
              "      <td>1996.000000</td>\n",
              "      <td>2006.000000</td>\n",
              "      <td>2007.000000</td>\n",
              "      <td>5.000000</td>\n",
              "      <td>24.000000</td>\n",
              "      <td>24.000000</td>\n",
              "      <td>36.000000</td>\n",
              "      <td>9.064400e+04</td>\n",
              "      <td>1.206000e+05</td>\n",
              "    </tr>\n",
              "    <tr>\n",
              "      <th>75%</th>\n",
              "      <td>1.613400e+04</td>\n",
              "      <td>2004.000000</td>\n",
              "      <td>2010.000000</td>\n",
              "      <td>2011.000000</td>\n",
              "      <td>5.000000</td>\n",
              "      <td>60.000000</td>\n",
              "      <td>60.000000</td>\n",
              "      <td>36.000000</td>\n",
              "      <td>1.100000e+05</td>\n",
              "      <td>1.448419e+05</td>\n",
              "    </tr>\n",
              "    <tr>\n",
              "      <th>max</th>\n",
              "      <td>2.635506e+08</td>\n",
              "      <td>2016.000000</td>\n",
              "      <td>2103.000000</td>\n",
              "      <td>2207.000000</td>\n",
              "      <td>96.000000</td>\n",
              "      <td>240.000000</td>\n",
              "      <td>244.000000</td>\n",
              "      <td>240.000000</td>\n",
              "      <td>1.629060e+07</td>\n",
              "      <td>1.328500e+07</td>\n",
              "    </tr>\n",
              "  </tbody>\n",
              "</table>\n",
              "</div>\n",
              "    <div class=\"colab-df-buttons\">\n",
              "\n",
              "  <div class=\"colab-df-container\">\n",
              "    <button class=\"colab-df-convert\" onclick=\"convertToInteractive('df-473812ec-028c-4372-bff6-8f6418f40223')\"\n",
              "            title=\"Convert this dataframe to an interactive table.\"\n",
              "            style=\"display:none;\">\n",
              "\n",
              "  <svg xmlns=\"http://www.w3.org/2000/svg\" height=\"24px\" viewBox=\"0 -960 960 960\">\n",
              "    <path d=\"M120-120v-720h720v720H120Zm60-500h600v-160H180v160Zm220 220h160v-160H400v160Zm0 220h160v-160H400v160ZM180-400h160v-160H180v160Zm440 0h160v-160H620v160ZM180-180h160v-160H180v160Zm440 0h160v-160H620v160Z\"/>\n",
              "  </svg>\n",
              "    </button>\n",
              "\n",
              "  <style>\n",
              "    .colab-df-container {\n",
              "      display:flex;\n",
              "      gap: 12px;\n",
              "    }\n",
              "\n",
              "    .colab-df-convert {\n",
              "      background-color: #E8F0FE;\n",
              "      border: none;\n",
              "      border-radius: 50%;\n",
              "      cursor: pointer;\n",
              "      display: none;\n",
              "      fill: #1967D2;\n",
              "      height: 32px;\n",
              "      padding: 0 0 0 0;\n",
              "      width: 32px;\n",
              "    }\n",
              "\n",
              "    .colab-df-convert:hover {\n",
              "      background-color: #E2EBFA;\n",
              "      box-shadow: 0px 1px 2px rgba(60, 64, 67, 0.3), 0px 1px 3px 1px rgba(60, 64, 67, 0.15);\n",
              "      fill: #174EA6;\n",
              "    }\n",
              "\n",
              "    .colab-df-buttons div {\n",
              "      margin-bottom: 4px;\n",
              "    }\n",
              "\n",
              "    [theme=dark] .colab-df-convert {\n",
              "      background-color: #3B4455;\n",
              "      fill: #D2E3FC;\n",
              "    }\n",
              "\n",
              "    [theme=dark] .colab-df-convert:hover {\n",
              "      background-color: #434B5C;\n",
              "      box-shadow: 0px 1px 3px 1px rgba(0, 0, 0, 0.15);\n",
              "      filter: drop-shadow(0px 1px 2px rgba(0, 0, 0, 0.3));\n",
              "      fill: #FFFFFF;\n",
              "    }\n",
              "  </style>\n",
              "\n",
              "    <script>\n",
              "      const buttonEl =\n",
              "        document.querySelector('#df-473812ec-028c-4372-bff6-8f6418f40223 button.colab-df-convert');\n",
              "      buttonEl.style.display =\n",
              "        google.colab.kernel.accessAllowed ? 'block' : 'none';\n",
              "\n",
              "      async function convertToInteractive(key) {\n",
              "        const element = document.querySelector('#df-473812ec-028c-4372-bff6-8f6418f40223');\n",
              "        const dataTable =\n",
              "          await google.colab.kernel.invokeFunction('convertToInteractive',\n",
              "                                                    [key], {});\n",
              "        if (!dataTable) return;\n",
              "\n",
              "        const docLinkHtml = 'Like what you see? Visit the ' +\n",
              "          '<a target=\"_blank\" href=https://colab.research.google.com/notebooks/data_table.ipynb>data table notebook</a>'\n",
              "          + ' to learn more about interactive tables.';\n",
              "        element.innerHTML = '';\n",
              "        dataTable['output_type'] = 'display_data';\n",
              "        await google.colab.output.renderOutput(dataTable, element);\n",
              "        const docLink = document.createElement('div');\n",
              "        docLink.innerHTML = docLinkHtml;\n",
              "        element.appendChild(docLink);\n",
              "      }\n",
              "    </script>\n",
              "  </div>\n",
              "\n",
              "\n",
              "<div id=\"df-44de328a-3b0b-4c5e-853c-adcc97ba62cd\">\n",
              "  <button class=\"colab-df-quickchart\" onclick=\"quickchart('df-44de328a-3b0b-4c5e-853c-adcc97ba62cd')\"\n",
              "            title=\"Suggest charts\"\n",
              "            style=\"display:none;\">\n",
              "\n",
              "<svg xmlns=\"http://www.w3.org/2000/svg\" height=\"24px\"viewBox=\"0 0 24 24\"\n",
              "     width=\"24px\">\n",
              "    <g>\n",
              "        <path d=\"M19 3H5c-1.1 0-2 .9-2 2v14c0 1.1.9 2 2 2h14c1.1 0 2-.9 2-2V5c0-1.1-.9-2-2-2zM9 17H7v-7h2v7zm4 0h-2V7h2v10zm4 0h-2v-4h2v4z\"/>\n",
              "    </g>\n",
              "</svg>\n",
              "  </button>\n",
              "\n",
              "<style>\n",
              "  .colab-df-quickchart {\n",
              "      --bg-color: #E8F0FE;\n",
              "      --fill-color: #1967D2;\n",
              "      --hover-bg-color: #E2EBFA;\n",
              "      --hover-fill-color: #174EA6;\n",
              "      --disabled-fill-color: #AAA;\n",
              "      --disabled-bg-color: #DDD;\n",
              "  }\n",
              "\n",
              "  [theme=dark] .colab-df-quickchart {\n",
              "      --bg-color: #3B4455;\n",
              "      --fill-color: #D2E3FC;\n",
              "      --hover-bg-color: #434B5C;\n",
              "      --hover-fill-color: #FFFFFF;\n",
              "      --disabled-bg-color: #3B4455;\n",
              "      --disabled-fill-color: #666;\n",
              "  }\n",
              "\n",
              "  .colab-df-quickchart {\n",
              "    background-color: var(--bg-color);\n",
              "    border: none;\n",
              "    border-radius: 50%;\n",
              "    cursor: pointer;\n",
              "    display: none;\n",
              "    fill: var(--fill-color);\n",
              "    height: 32px;\n",
              "    padding: 0;\n",
              "    width: 32px;\n",
              "  }\n",
              "\n",
              "  .colab-df-quickchart:hover {\n",
              "    background-color: var(--hover-bg-color);\n",
              "    box-shadow: 0 1px 2px rgba(60, 64, 67, 0.3), 0 1px 3px 1px rgba(60, 64, 67, 0.15);\n",
              "    fill: var(--button-hover-fill-color);\n",
              "  }\n",
              "\n",
              "  .colab-df-quickchart-complete:disabled,\n",
              "  .colab-df-quickchart-complete:disabled:hover {\n",
              "    background-color: var(--disabled-bg-color);\n",
              "    fill: var(--disabled-fill-color);\n",
              "    box-shadow: none;\n",
              "  }\n",
              "\n",
              "  .colab-df-spinner {\n",
              "    border: 2px solid var(--fill-color);\n",
              "    border-color: transparent;\n",
              "    border-bottom-color: var(--fill-color);\n",
              "    animation:\n",
              "      spin 1s steps(1) infinite;\n",
              "  }\n",
              "\n",
              "  @keyframes spin {\n",
              "    0% {\n",
              "      border-color: transparent;\n",
              "      border-bottom-color: var(--fill-color);\n",
              "      border-left-color: var(--fill-color);\n",
              "    }\n",
              "    20% {\n",
              "      border-color: transparent;\n",
              "      border-left-color: var(--fill-color);\n",
              "      border-top-color: var(--fill-color);\n",
              "    }\n",
              "    30% {\n",
              "      border-color: transparent;\n",
              "      border-left-color: var(--fill-color);\n",
              "      border-top-color: var(--fill-color);\n",
              "      border-right-color: var(--fill-color);\n",
              "    }\n",
              "    40% {\n",
              "      border-color: transparent;\n",
              "      border-right-color: var(--fill-color);\n",
              "      border-top-color: var(--fill-color);\n",
              "    }\n",
              "    60% {\n",
              "      border-color: transparent;\n",
              "      border-right-color: var(--fill-color);\n",
              "    }\n",
              "    80% {\n",
              "      border-color: transparent;\n",
              "      border-right-color: var(--fill-color);\n",
              "      border-bottom-color: var(--fill-color);\n",
              "    }\n",
              "    90% {\n",
              "      border-color: transparent;\n",
              "      border-bottom-color: var(--fill-color);\n",
              "    }\n",
              "  }\n",
              "</style>\n",
              "\n",
              "  <script>\n",
              "    async function quickchart(key) {\n",
              "      const quickchartButtonEl =\n",
              "        document.querySelector('#' + key + ' button');\n",
              "      quickchartButtonEl.disabled = true;  // To prevent multiple clicks.\n",
              "      quickchartButtonEl.classList.add('colab-df-spinner');\n",
              "      try {\n",
              "        const charts = await google.colab.kernel.invokeFunction(\n",
              "            'suggestCharts', [key], {});\n",
              "      } catch (error) {\n",
              "        console.error('Error during call to suggestCharts:', error);\n",
              "      }\n",
              "      quickchartButtonEl.classList.remove('colab-df-spinner');\n",
              "      quickchartButtonEl.classList.add('colab-df-quickchart-complete');\n",
              "    }\n",
              "    (() => {\n",
              "      let quickchartButtonEl =\n",
              "        document.querySelector('#df-44de328a-3b0b-4c5e-853c-adcc97ba62cd button');\n",
              "      quickchartButtonEl.style.display =\n",
              "        google.colab.kernel.accessAllowed ? 'block' : 'none';\n",
              "    })();\n",
              "  </script>\n",
              "</div>\n",
              "\n",
              "    </div>\n",
              "  </div>\n"
            ],
            "application/vnd.google.colaboratory.intrinsic+json": {
              "type": "dataframe",
              "summary": "{\n  \"name\": \"df\",\n  \"rows\": 8,\n  \"fields\": [\n    {\n      \"column\": \"employer_num_employees\",\n      \"properties\": {\n        \"dtype\": \"number\",\n        \"std\": 93137751.0704796,\n        \"min\": 0.0,\n        \"max\": 263550614.0,\n        \"num_unique_values\": 8,\n        \"samples\": [\n          23093.867341943744,\n          1200.0,\n          239013.0\n        ],\n        \"semantic_type\": \"\",\n        \"description\": \"\"\n      }\n    },\n    {\n      \"column\": \"employer_yr_estab\",\n      \"properties\": {\n        \"dtype\": \"number\",\n        \"std\": 83983.14090152433,\n        \"min\": 0.0,\n        \"max\": 238958.0,\n        \"num_unique_values\": 8,\n        \"samples\": [\n          1984.2082667246964,\n          1996.0,\n          238958.0\n        ],\n        \"semantic_type\": \"\",\n        \"description\": \"\"\n      }\n    },\n    {\n      \"column\": \"foreign_worker_yr_rel_edu_completed\",\n      \"properties\": {\n        \"dtype\": \"number\",\n        \"std\": 28971.52603021234,\n        \"min\": 0.0,\n        \"max\": 83364.0,\n        \"num_unique_values\": 8,\n        \"samples\": [\n          2001.3457607600403,\n          2006.0,\n          83364.0\n        ],\n        \"semantic_type\": \"\",\n        \"description\": \"\"\n      }\n    },\n    {\n      \"column\": \"fw_info_yr_rel_edu_completed\",\n      \"properties\": {\n        \"dtype\": \"number\",\n        \"std\": 47994.08526329423,\n        \"min\": 0.0,\n        \"max\": 137198.0,\n        \"num_unique_values\": 8,\n        \"samples\": [\n          2002.6336025306491,\n          2007.0,\n          137198.0\n        ],\n        \"semantic_type\": \"\",\n        \"description\": \"\"\n      }\n    },\n    {\n      \"column\": \"job_info_alt_cmb_ed_oth_yrs\",\n      \"properties\": {\n        \"dtype\": \"number\",\n        \"std\": 24820.55839833586,\n        \"min\": 0.0,\n        \"max\": 70220.0,\n        \"num_unique_values\": 7,\n        \"samples\": [\n          70220.0,\n          4.593876388493307,\n          5.0\n        ],\n        \"semantic_type\": \"\",\n        \"description\": \"\"\n      }\n    },\n    {\n      \"column\": \"job_info_alt_occ_num_months\",\n      \"properties\": {\n        \"dtype\": \"number\",\n        \"std\": 52022.513866356094,\n        \"min\": 0.0,\n        \"max\": 147200.0,\n        \"num_unique_values\": 7,\n        \"samples\": [\n          147200.0,\n          36.48311820652174,\n          60.0\n        ],\n        \"semantic_type\": \"\",\n        \"description\": \"\"\n      }\n    },\n    {\n      \"column\": \"job_info_experience_num_months\",\n      \"properties\": {\n        \"dtype\": \"number\",\n        \"std\": 47069.14158333597,\n        \"min\": 0.0,\n        \"max\": 133188.0,\n        \"num_unique_values\": 8,\n        \"samples\": [\n          33.10356038081509,\n          24.0,\n          133188.0\n        ],\n        \"semantic_type\": \"\",\n        \"description\": \"\"\n      }\n    },\n    {\n      \"column\": \"job_info_training_num_months\",\n      \"properties\": {\n        \"dtype\": \"number\",\n        \"std\": 1672.3494410574333,\n        \"min\": 0.0,\n        \"max\": 4779.0,\n        \"num_unique_values\": 7,\n        \"samples\": [\n          4779.0,\n          32.68508056078677,\n          36.0\n        ],\n        \"semantic_type\": \"\",\n        \"description\": \"\"\n      }\n    },\n    {\n      \"column\": \"wage_offered_from_9089\",\n      \"properties\": {\n        \"dtype\": \"number\",\n        \"std\": 5727827.492880385,\n        \"min\": 6.7,\n        \"max\": 16290600.0,\n        \"num_unique_values\": 8,\n        \"samples\": [\n          95888.45717367223,\n          90644.0,\n          114647.0\n        ],\n        \"semantic_type\": \"\",\n        \"description\": \"\"\n      }\n    },\n    {\n      \"column\": \"wage_offered_to_9089\",\n      \"properties\": {\n        \"dtype\": \"number\",\n        \"std\": 4665664.19361606,\n        \"min\": 0.0,\n        \"max\": 13285000.0,\n        \"num_unique_values\": 8,\n        \"samples\": [\n          123227.31401644363,\n          120600.0,\n          31015.0\n        ],\n        \"semantic_type\": \"\",\n        \"description\": \"\"\n      }\n    }\n  ]\n}"
            }
          },
          "metadata": {},
          "execution_count": 90
        }
      ],
      "source": [
        "#Statistic Data\n",
        "df.describe()"
      ]
    },
    {
      "cell_type": "code",
      "source": [
        "df.columns"
      ],
      "metadata": {
        "colab": {
          "base_uri": "https://localhost:8080/"
        },
        "id": "t-if4-i3AdJd",
        "outputId": "9cfc2ee9-dbca-477c-9169-747b21e9f3ac"
      },
      "execution_count": 96,
      "outputs": [
        {
          "output_type": "execute_result",
          "data": {
            "text/plain": [
              "Index(['add_these_pw_job_title_9089', 'agent_city', 'agent_firm_name',\n",
              "       'agent_state', 'application_type', 'case_no', 'case_number',\n",
              "       'case_received_date', 'case_status', 'class_of_admission',\n",
              "       ...\n",
              "       'ri_pvt_employment_firm_to', 'ri_us_workers_considered',\n",
              "       'schd_a_sheepherder', 'us_economic_sector', 'wage_offer_from_9089',\n",
              "       'wage_offer_to_9089', 'wage_offer_unit_of_pay_9089',\n",
              "       'wage_offered_from_9089', 'wage_offered_to_9089',\n",
              "       'wage_offered_unit_of_pay_9089'],\n",
              "      dtype='object', length=154)"
            ]
          },
          "metadata": {},
          "execution_count": 96
        }
      ]
    },
    {
      "cell_type": "markdown",
      "source": [
        "After checking the columns name you can see that case no and case number are the 2 column with same purpose."
      ],
      "metadata": {
        "id": "ydzFKwVDAm-j"
      }
    },
    {
      "cell_type": "code",
      "execution_count": 100,
      "metadata": {
        "colab": {
          "base_uri": "https://localhost:8080/"
        },
        "id": "kPqnmZLhKPl8",
        "outputId": "d9801464-5fb1-4213-e9f2-5d70d10914ef"
      },
      "outputs": [
        {
          "output_type": "execute_result",
          "data": {
            "text/plain": [
              "134990"
            ]
          },
          "metadata": {},
          "execution_count": 100
        }
      ],
      "source": [
        "#Analyse Case no. column\n",
        "df['case_no'].nunique()"
      ]
    },
    {
      "cell_type": "code",
      "source": [
        "df['case_no'].isna().sum()"
      ],
      "metadata": {
        "colab": {
          "base_uri": "https://localhost:8080/"
        },
        "id": "f6LYPv0PC1Ps",
        "outputId": "72bb13c8-324b-4576-e24e-c5628373d9a5"
      },
      "execution_count": 101,
      "outputs": [
        {
          "output_type": "execute_result",
          "data": {
            "text/plain": [
              "239093"
            ]
          },
          "metadata": {},
          "execution_count": 101
        }
      ]
    },
    {
      "cell_type": "code",
      "execution_count": 102,
      "metadata": {
        "colab": {
          "base_uri": "https://localhost:8080/"
        },
        "id": "2Y-PTl42ZVlH",
        "outputId": "8f30db4b-441f-4722-8429-34aaeaca6a4c"
      },
      "outputs": [
        {
          "output_type": "execute_result",
          "data": {
            "text/plain": [
              "238418"
            ]
          },
          "metadata": {},
          "execution_count": 102
        }
      ],
      "source": [
        "#Analyse Case number column\n",
        "df['case_number'].nunique()"
      ]
    },
    {
      "cell_type": "code",
      "execution_count": 103,
      "metadata": {
        "colab": {
          "base_uri": "https://localhost:8080/"
        },
        "id": "73I-BbN_cenY",
        "outputId": "74b0ad9b-0a53-4264-a072-1f4fbbf503d5"
      },
      "outputs": [
        {
          "output_type": "execute_result",
          "data": {
            "text/plain": [
              "135269"
            ]
          },
          "metadata": {},
          "execution_count": 103
        }
      ],
      "source": [
        "df['case_number'].isna().sum()"
      ]
    },
    {
      "cell_type": "code",
      "execution_count": 105,
      "metadata": {
        "id": "bsx6bzYkaC93"
      },
      "outputs": [],
      "source": [
        "#Create a function to create a new column casenumber using case_no and case_number\n",
        "casenoindex = df.columns.get_loc(\"case_no\")\n",
        "casenumberindex = df.columns.get_loc(\"case_number\")\n",
        "\n",
        "casenumberlist = []\n",
        "for value in df.iloc[0 : 135269, casenoindex]:\n",
        "  casenumberlist.append(value)\n",
        "\n",
        "for value in df.iloc[135269 : 374362, casenumberindex]:\n",
        "  casenumberlist.append(value)\n",
        "\n",
        "df[\"casenumber\"] = casenumberlist\n"
      ]
    },
    {
      "cell_type": "code",
      "execution_count": 106,
      "metadata": {
        "id": "wRs64pT3bEnM"
      },
      "outputs": [],
      "source": [
        "df.drop(['case_no', 'case_number'], axis = 1, inplace = True)"
      ]
    },
    {
      "cell_type": "code",
      "execution_count": 107,
      "metadata": {
        "colab": {
          "base_uri": "https://localhost:8080/"
        },
        "id": "0C3kfrcSg_00",
        "outputId": "5f722873-09f8-4cf9-a011-3b95e1d18b9f"
      },
      "outputs": [
        {
          "output_type": "execute_result",
          "data": {
            "text/plain": [
              "array(['Certified', 'Denied', 'Certified-Expired', 'Withdrawn'],\n",
              "      dtype=object)"
            ]
          },
          "metadata": {},
          "execution_count": 107
        }
      ],
      "source": [
        "#Analyse Case Status\n",
        "df['case_status'].unique()"
      ]
    },
    {
      "cell_type": "code",
      "execution_count": 113,
      "metadata": {
        "colab": {
          "base_uri": "https://localhost:8080/"
        },
        "id": "Q059_T-ag_qT",
        "outputId": "bbdf9e91-4a4b-4790-990d-27e38ce86910"
      },
      "outputs": [
        {
          "output_type": "stream",
          "name": "stdout",
          "text": [
            "181933 occurance of status 'Certified' \n",
            "25649 occurance of status 'Denied' \n",
            "148586 occurance of status 'Certified-Expired' \n",
            "18194 occurance of status 'Withdrawn' \n"
          ]
        }
      ],
      "source": [
        "#use for loop to extract no. of case status as per unique value\n",
        "for value in df['case_status'].unique():\n",
        "  print(len(df[df['case_status'] == value]), \"occurance of status '{}' \".format(value))"
      ]
    },
    {
      "cell_type": "markdown",
      "source": [
        "Remove withdrawn case status"
      ],
      "metadata": {
        "id": "yzd_8bcEMSAZ"
      }
    },
    {
      "cell_type": "code",
      "execution_count": 114,
      "metadata": {
        "id": "X2HrJhk1iSUC"
      },
      "outputs": [],
      "source": [
        "df = df[df.case_status != 'Withdrawn']"
      ]
    },
    {
      "cell_type": "code",
      "execution_count": 115,
      "metadata": {
        "colab": {
          "base_uri": "https://localhost:8080/"
        },
        "id": "ev2IQZA9iSLh",
        "outputId": "f11a289a-251a-4777-9a88-6b4c7e9f0ca9"
      },
      "outputs": [
        {
          "output_type": "execute_result",
          "data": {
            "text/plain": [
              "(356168, 153)"
            ]
          },
          "metadata": {},
          "execution_count": 115
        }
      ],
      "source": [
        "df.shape"
      ]
    },
    {
      "cell_type": "markdown",
      "source": [
        "Combine Certified and Certified Expired"
      ],
      "metadata": {
        "id": "jhxS_9CrMe1I"
      }
    },
    {
      "cell_type": "code",
      "execution_count": 116,
      "metadata": {
        "colab": {
          "base_uri": "https://localhost:8080/",
          "height": 178
        },
        "id": "DFqgILXHlPeH",
        "outputId": "2cc91064-f7ac-4b28-97ea-8cb7cff72771"
      },
      "outputs": [
        {
          "output_type": "execute_result",
          "data": {
            "text/plain": [
              "case_status\n",
              "Certified    330519\n",
              "Denied        25649\n",
              "Name: count, dtype: int64"
            ],
            "text/html": [
              "<div>\n",
              "<style scoped>\n",
              "    .dataframe tbody tr th:only-of-type {\n",
              "        vertical-align: middle;\n",
              "    }\n",
              "\n",
              "    .dataframe tbody tr th {\n",
              "        vertical-align: top;\n",
              "    }\n",
              "\n",
              "    .dataframe thead th {\n",
              "        text-align: right;\n",
              "    }\n",
              "</style>\n",
              "<table border=\"1\" class=\"dataframe\">\n",
              "  <thead>\n",
              "    <tr style=\"text-align: right;\">\n",
              "      <th></th>\n",
              "      <th>count</th>\n",
              "    </tr>\n",
              "    <tr>\n",
              "      <th>case_status</th>\n",
              "      <th></th>\n",
              "    </tr>\n",
              "  </thead>\n",
              "  <tbody>\n",
              "    <tr>\n",
              "      <th>Certified</th>\n",
              "      <td>330519</td>\n",
              "    </tr>\n",
              "    <tr>\n",
              "      <th>Denied</th>\n",
              "      <td>25649</td>\n",
              "    </tr>\n",
              "  </tbody>\n",
              "</table>\n",
              "</div><br><label><b>dtype:</b> int64</label>"
            ]
          },
          "metadata": {},
          "execution_count": 116
        }
      ],
      "source": [
        "df.loc[df.case_status == 'Certified-Expired', 'case_status'] = 'Certified'\n",
        "df.case_status.value_counts()"
      ]
    },
    {
      "cell_type": "markdown",
      "source": [
        "Finally check the percentage of Certified and Denied Case status for US Visa"
      ],
      "metadata": {
        "id": "c-xtjl-AMrek"
      }
    },
    {
      "cell_type": "code",
      "execution_count": 117,
      "metadata": {
        "colab": {
          "base_uri": "https://localhost:8080/",
          "height": 178
        },
        "id": "REAw17BHlPZX",
        "outputId": "c95c55e2-c6a8-4ee6-be09-49224241c5b7"
      },
      "outputs": [
        {
          "output_type": "execute_result",
          "data": {
            "text/plain": [
              "case_status\n",
              "Certified    92.798623\n",
              "Denied        7.201377\n",
              "Name: proportion, dtype: float64"
            ],
            "text/html": [
              "<div>\n",
              "<style scoped>\n",
              "    .dataframe tbody tr th:only-of-type {\n",
              "        vertical-align: middle;\n",
              "    }\n",
              "\n",
              "    .dataframe tbody tr th {\n",
              "        vertical-align: top;\n",
              "    }\n",
              "\n",
              "    .dataframe thead th {\n",
              "        text-align: right;\n",
              "    }\n",
              "</style>\n",
              "<table border=\"1\" class=\"dataframe\">\n",
              "  <thead>\n",
              "    <tr style=\"text-align: right;\">\n",
              "      <th></th>\n",
              "      <th>proportion</th>\n",
              "    </tr>\n",
              "    <tr>\n",
              "      <th>case_status</th>\n",
              "      <th></th>\n",
              "    </tr>\n",
              "  </thead>\n",
              "  <tbody>\n",
              "    <tr>\n",
              "      <th>Certified</th>\n",
              "      <td>92.798623</td>\n",
              "    </tr>\n",
              "    <tr>\n",
              "      <th>Denied</th>\n",
              "      <td>7.201377</td>\n",
              "    </tr>\n",
              "  </tbody>\n",
              "</table>\n",
              "</div><br><label><b>dtype:</b> float64</label>"
            ]
          },
          "metadata": {},
          "execution_count": 117
        }
      ],
      "source": [
        "df.case_status.value_counts(normalize = True)*100"
      ]
    },
    {
      "cell_type": "markdown",
      "source": [
        "#**Univariate Analysis**"
      ],
      "metadata": {
        "id": "nN4lNazi1Dy3"
      }
    },
    {
      "cell_type": "code",
      "execution_count": 118,
      "metadata": {
        "colab": {
          "base_uri": "https://localhost:8080/",
          "height": 410
        },
        "id": "Fdj8zdtam6pv",
        "outputId": "cfffb1bf-1673-4567-861f-bef3e9aa3262"
      },
      "outputs": [
        {
          "output_type": "display_data",
          "data": {
            "text/plain": [
              "<Figure size 800x400 with 1 Axes>"
            ],
            "image/png": "[encoded data removed]"
          },
          "metadata": {}
        }
      ],
      "source": [
        "#Create a Countplot for Case Status\n",
        "plt.figure(figsize = (8,4))\n",
        "sns.countplot(x = 'case_status', data = df, palette = 'husl')\n",
        "plt.title(\"Distribution of Case Status\")\n",
        "plt.xlabel('Case Status')\n",
        "plt.ylabel('Count')\n",
        "plt.show()"
      ]
    },
    {
      "cell_type": "markdown",
      "source": [
        "**insights**-7.2% of visa applications were denied"
      ],
      "metadata": {
        "id": "v_nU1P9eNCQQ"
      }
    },
    {
      "cell_type": "code",
      "execution_count": 119,
      "metadata": {
        "id": "0E4GieUfoFTR"
      },
      "outputs": [],
      "source": [
        "#Droping all empty row and column\n",
        "df.dropna(axis = 1, how = 'all', inplace = True)\n",
        "df.dropna(axis = 0, how = 'all', inplace = True)"
      ]
    },
    {
      "cell_type": "code",
      "execution_count": 120,
      "metadata": {
        "colab": {
          "base_uri": "https://localhost:8080/"
        },
        "id": "uuYHFIrKuelb",
        "outputId": "faeeb10f-0156-415b-d2e5-aa0b07ce8b65"
      },
      "outputs": [
        {
          "output_type": "stream",
          "name": "stdout",
          "text": [
            "The missing value for add_these_pw_job_title_9089 is 317031\n",
            "The missing value for agent_city is 153452\n",
            "The missing value for agent_firm_name is 157646\n",
            "The missing value for agent_state is 156544\n",
            "The missing value for application_type is 229320\n",
            "The missing value for case_received_date is 126848\n",
            "The missing value for case_status is 0\n",
            "The missing value for class_of_admission is 21085\n",
            "The missing value for country_of_citizenship is 19272\n",
            "The missing value for country_of_citzenship is 336951\n",
            "The missing value for decision_date is 0\n",
            "The missing value for employer_address_1 is 37\n",
            "The missing value for employer_address_2 is 236133\n",
            "The missing value for employer_city is 10\n",
            "The missing value for employer_country is 126920\n",
            "The missing value for employer_decl_info_title is 126886\n",
            "The missing value for employer_name is 8\n",
            "The missing value for employer_num_employees is 126925\n",
            "The missing value for employer_phone is 126883\n",
            "The missing value for employer_phone_ext is 333670\n",
            "The missing value for employer_postal_code is 33\n",
            "The missing value for employer_state is 37\n",
            "The missing value for employer_yr_estab is 126982\n",
            "The missing value for foreign_worker_info_alt_edu_experience is 271883\n",
            "The missing value for foreign_worker_info_birth_country is 271880\n",
            "The missing value for foreign_worker_info_city is 126875\n",
            "The missing value for foreign_worker_info_education is 143554\n",
            "The missing value for foreign_worker_info_education_other is 352421\n",
            "The missing value for foreign_worker_info_inst is 143883\n",
            "The missing value for foreign_worker_info_major is 144800\n",
            "The missing value for foreign_worker_info_postal_code is 274425\n",
            "The missing value for foreign_worker_info_rel_occup_exp is 271875\n",
            "The missing value for foreign_worker_info_req_experience is 271873\n",
            "The missing value for foreign_worker_info_state is 142448\n",
            "The missing value for foreign_worker_info_training_comp is 271874\n",
            "The missing value for foreign_worker_ownership_interest is 271870\n",
            "The missing value for foreign_worker_yr_rel_edu_completed is 276735\n",
            "The missing value for fw_info_alt_edu_experience is 211154\n",
            "The missing value for fw_info_birth_country is 211166\n",
            "The missing value for fw_info_education_other is 350072\n",
            "The missing value for fw_info_postal_code is 213280\n",
            "The missing value for fw_info_rel_occup_exp is 211157\n",
            "The missing value for fw_info_req_experience is 211153\n",
            "The missing value for fw_info_training_comp is 211156\n",
            "The missing value for fw_info_yr_rel_edu_completed is 223131\n",
            "The missing value for fw_ownership_interest is 211154\n",
            "The missing value for ji_foreign_worker_live_on_premises is 271871\n",
            "The missing value for ji_fw_live_on_premises is 211152\n",
            "The missing value for ji_live_in_dom_svc_contract is 353855\n",
            "The missing value for ji_live_in_domestic_service is 126858\n",
            "The missing value for ji_offered_to_sec_j_foreign_worker is 271871\n",
            "The missing value for ji_offered_to_sec_j_fw is 211152\n",
            "The missing value for job_info_alt_cmb_ed_oth_yrs is 288242\n",
            "The missing value for job_info_alt_combo_ed is 290025\n",
            "The missing value for job_info_alt_combo_ed_exp is 126881\n",
            "The missing value for job_info_alt_combo_ed_other is 347190\n",
            "The missing value for job_info_alt_field is 126880\n",
            "The missing value for job_info_alt_field_name is 265907\n",
            "The missing value for job_info_alt_occ is 213169\n",
            "The missing value for job_info_alt_occ_job_title is 213847\n",
            "The missing value for job_info_alt_occ_num_months is 214045\n",
            "The missing value for job_info_combo_occupation is 126855\n",
            "The missing value for job_info_education is 147649\n",
            "The missing value for job_info_education_other is 348724\n",
            "The missing value for job_info_experience is 126858\n",
            "The missing value for job_info_experience_num_months is 227222\n",
            "The missing value for job_info_foreign_ed is 127075\n",
            "The missing value for job_info_foreign_lang_req is 126862\n",
            "The missing value for job_info_job_req_normal is 126859\n",
            "The missing value for job_info_job_title is 126889\n",
            "The missing value for job_info_major is 151241\n",
            "The missing value for job_info_training is 126861\n",
            "The missing value for job_info_training_field is 351877\n",
            "The missing value for job_info_training_num_months is 351596\n",
            "The missing value for job_info_work_city is 95\n",
            "The missing value for job_info_work_postal_code is 126930\n",
            "The missing value for job_info_work_state is 96\n",
            "The missing value for naics_2007_us_code is 337009\n",
            "The missing value for naics_2007_us_title is 337598\n",
            "The missing value for naics_code is 272070\n",
            "The missing value for naics_title is 272070\n",
            "The missing value for naics_us_code is 211467\n",
            "The missing value for naics_us_code_2007 is 248921\n",
            "The missing value for naics_us_title is 211467\n",
            "The missing value for naics_us_title_2007 is 251893\n",
            "The missing value for orig_case_no is 355892\n",
            "The missing value for orig_file_date is 355904\n",
            "The missing value for preparer_info_emp_completed is 126885\n",
            "The missing value for preparer_info_title is 154602\n",
            "The missing value for pw_amount_9089 is 2203\n",
            "The missing value for pw_determ_date is 127160\n",
            "The missing value for pw_expire_date is 127239\n",
            "The missing value for pw_job_title_908 is 211218\n",
            "The missing value for pw_job_title_9089 is 145334\n",
            "The missing value for pw_level_9089 is 26585\n",
            "The missing value for pw_soc_code is 574\n",
            "The missing value for pw_soc_title is 2321\n",
            "The missing value for pw_source_name_9089 is 2087\n",
            "The missing value for pw_source_name_other_9089 is 340927\n",
            "The missing value for pw_track_num is 128696\n",
            "The missing value for pw_unit_of_pay_9089 is 1481\n",
            "The missing value for rec_info_barg_rep_notified is 271930\n",
            "The missing value for recr_info_barg_rep_notified is 211165\n",
            "The missing value for recr_info_coll_teach_comp_proc is 349374\n",
            "The missing value for recr_info_coll_univ_teacher is 126876\n",
            "The missing value for recr_info_employer_rec_payment is 126864\n",
            "The missing value for recr_info_first_ad_start is 132806\n",
            "The missing value for recr_info_job_fair_from is 354447\n",
            "The missing value for recr_info_job_fair_to is 354451\n",
            "The missing value for recr_info_on_campus_recr_from is 354403\n",
            "The missing value for recr_info_on_campus_recr_to is 354410\n",
            "The missing value for recr_info_pro_org_advert_from is 342873\n",
            "The missing value for recr_info_pro_org_advert_to is 342879\n",
            "The missing value for recr_info_prof_org_advert_from is 328771\n",
            "The missing value for recr_info_prof_org_advert_to is 328778\n",
            "The missing value for recr_info_professional_occ is 126861\n",
            "The missing value for recr_info_radio_tv_ad_from is 336666\n",
            "The missing value for recr_info_radio_tv_ad_to is 336665\n",
            "The missing value for recr_info_second_ad_start is 132843\n",
            "The missing value for recr_info_sunday_newspaper is 132717\n",
            "The missing value for recr_info_swa_job_order_end is 132841\n",
            "The missing value for recr_info_swa_job_order_start is 132819\n",
            "The missing value for refile is 247861\n",
            "The missing value for ri_1st_ad_newspaper_name is 132797\n",
            "The missing value for ri_2nd_ad_newspaper_name is 132858\n",
            "The missing value for ri_2nd_ad_newspaper_or_journal is 132825\n",
            "The missing value for ri_campus_placement_from is 327380\n",
            "The missing value for ri_campus_placement_to is 327390\n",
            "The missing value for ri_coll_tch_basic_process is 349382\n",
            "The missing value for ri_coll_teach_pro_jnl is 350625\n",
            "The missing value for ri_coll_teach_select_date is 350626\n",
            "The missing value for ri_employee_referral_prog_from is 289853\n",
            "The missing value for ri_employee_referral_prog_to is 289852\n",
            "The missing value for ri_employer_web_post_from is 224277\n",
            "The missing value for ri_employer_web_post_to is 224300\n",
            "The missing value for ri_job_search_website_from is 166377\n",
            "The missing value for ri_job_search_website_to is 166388\n",
            "The missing value for ri_layoff_in_past_six_months is 126878\n",
            "The missing value for ri_local_ethnic_paper_from is 239853\n",
            "The missing value for ri_local_ethnic_paper_to is 239852\n",
            "The missing value for ri_posted_notice_at_worksite is 126927\n",
            "The missing value for ri_pvt_employment_firm_from is 340050\n",
            "The missing value for ri_pvt_employment_firm_to is 340052\n",
            "The missing value for ri_us_workers_considered is 339595\n",
            "The missing value for schd_a_sheepherder is 126866\n",
            "The missing value for us_economic_sector is 235300\n",
            "The missing value for wage_offer_from_9089 is 107705\n",
            "The missing value for wage_offer_to_9089 is 285397\n",
            "The missing value for wage_offer_unit_of_pay_9089 is 108769\n",
            "The missing value for wage_offered_from_9089 is 248582\n",
            "The missing value for wage_offered_to_9089 is 326852\n",
            "The missing value for wage_offered_unit_of_pay_9089 is 289470\n",
            "The missing value for casenumber is 0\n"
          ]
        }
      ],
      "source": [
        "#Check null value for all col using for loop\n",
        "for column in df.columns:\n",
        "  print(f\"The missing value for {column} is {df[column].isnull().sum()}\")"
      ]
    },
    {
      "cell_type": "code",
      "execution_count": 124,
      "metadata": {
        "id": "B6MJDek0uefU"
      },
      "outputs": [],
      "source": [
        "#Change object to date\n",
        "df['decision_date'] = pd.to_datetime(df['decision_date'])\n",
        "df['year'] = df['decision_date'].dt.year"
      ]
    },
    {
      "cell_type": "code",
      "execution_count": 128,
      "metadata": {
        "colab": {
          "base_uri": "https://localhost:8080/",
          "height": 472
        },
        "id": "0JyKteiGxUpc",
        "outputId": "6fd674d3-2d3f-4c64-a40f-9d879d9fcbb2"
      },
      "outputs": [
        {
          "output_type": "display_data",
          "data": {
            "text/plain": [
              "<Figure size 640x480 with 1 Axes>"
            ],
            "image/png": "[encoded data removed]"
          },
          "metadata": {}
        }
      ],
      "source": [
        "#Create a Countplot for Year use hue as Case Status\n",
        "sns.countplot(x = 'year' ,hue = 'case_status', data = df, palette = 'Set1')\n",
        "plt.title(\"Distribution of Year Vise Visa Status\")\n",
        "plt.xlabel('Year')\n",
        "plt.ylabel('Count')\n",
        "plt.show()"
      ]
    },
    {
      "cell_type": "markdown",
      "source": [
        "**insight**-Upward trend in the US Visa distribution and 2016 is the highest one."
      ],
      "metadata": {
        "id": "8xM3ExT9OKyB"
      }
    },
    {
      "cell_type": "code",
      "execution_count": 129,
      "metadata": {
        "colab": {
          "base_uri": "https://localhost:8080/",
          "height": 489
        },
        "id": "pT34_WQN3dU7",
        "outputId": "8f10ea97-367f-44dd-ad28-12fb5079f27b"
      },
      "outputs": [
        {
          "output_type": "execute_result",
          "data": {
            "text/plain": [
              "employer_city\n",
              "NEW YORK           15992\n",
              "COLLEGE STATION    11983\n",
              "SANTA CLARA        10446\n",
              "SAN JOSE            9004\n",
              "REDMOND             8469\n",
              "                   ...  \n",
              "PARADISE               1\n",
              "GRANITE SPRINGS        1\n",
              "GALLIANO               1\n",
              "BURKBURNETT            1\n",
              "Northfield             1\n",
              "Name: count, Length: 8324, dtype: int64"
            ],
            "text/html": [
              "<div>\n",
              "<style scoped>\n",
              "    .dataframe tbody tr th:only-of-type {\n",
              "        vertical-align: middle;\n",
              "    }\n",
              "\n",
              "    .dataframe tbody tr th {\n",
              "        vertical-align: top;\n",
              "    }\n",
              "\n",
              "    .dataframe thead th {\n",
              "        text-align: right;\n",
              "    }\n",
              "</style>\n",
              "<table border=\"1\" class=\"dataframe\">\n",
              "  <thead>\n",
              "    <tr style=\"text-align: right;\">\n",
              "      <th></th>\n",
              "      <th>count</th>\n",
              "    </tr>\n",
              "    <tr>\n",
              "      <th>employer_city</th>\n",
              "      <th></th>\n",
              "    </tr>\n",
              "  </thead>\n",
              "  <tbody>\n",
              "    <tr>\n",
              "      <th>NEW YORK</th>\n",
              "      <td>15992</td>\n",
              "    </tr>\n",
              "    <tr>\n",
              "      <th>COLLEGE STATION</th>\n",
              "      <td>11983</td>\n",
              "    </tr>\n",
              "    <tr>\n",
              "      <th>SANTA CLARA</th>\n",
              "      <td>10446</td>\n",
              "    </tr>\n",
              "    <tr>\n",
              "      <th>SAN JOSE</th>\n",
              "      <td>9004</td>\n",
              "    </tr>\n",
              "    <tr>\n",
              "      <th>REDMOND</th>\n",
              "      <td>8469</td>\n",
              "    </tr>\n",
              "    <tr>\n",
              "      <th>...</th>\n",
              "      <td>...</td>\n",
              "    </tr>\n",
              "    <tr>\n",
              "      <th>PARADISE</th>\n",
              "      <td>1</td>\n",
              "    </tr>\n",
              "    <tr>\n",
              "      <th>GRANITE SPRINGS</th>\n",
              "      <td>1</td>\n",
              "    </tr>\n",
              "    <tr>\n",
              "      <th>GALLIANO</th>\n",
              "      <td>1</td>\n",
              "    </tr>\n",
              "    <tr>\n",
              "      <th>BURKBURNETT</th>\n",
              "      <td>1</td>\n",
              "    </tr>\n",
              "    <tr>\n",
              "      <th>Northfield</th>\n",
              "      <td>1</td>\n",
              "    </tr>\n",
              "  </tbody>\n",
              "</table>\n",
              "<p>8324 rows × 1 columns</p>\n",
              "</div><br><label><b>dtype:</b> int64</label>"
            ]
          },
          "metadata": {},
          "execution_count": 129
        }
      ],
      "source": [
        "#Changing Lower case to upper\n",
        "df['employer_city'].value_counts()"
      ]
    },
    {
      "cell_type": "code",
      "execution_count": 130,
      "metadata": {
        "colab": {
          "base_uri": "https://localhost:8080/",
          "height": 489
        },
        "id": "9mwavDRX3dPK",
        "outputId": "805c3f62-52fa-46ca-ea4c-0cfc06505b03"
      },
      "outputs": [
        {
          "output_type": "execute_result",
          "data": {
            "text/plain": [
              "employer_city\n",
              "NEW YORK           17198\n",
              "COLLEGE STATION    11985\n",
              "SANTA CLARA        10519\n",
              "SAN JOSE            9147\n",
              "REDMOND             8485\n",
              "                   ...  \n",
              "ELYSBURG               1\n",
              "ROCKVILLLE             1\n",
              "GRIFFITH               1\n",
              "WANAQUE                1\n",
              "ROYAL OAKS             1\n",
              "Name: count, Length: 5782, dtype: int64"
            ],
            "text/html": [
              "<div>\n",
              "<style scoped>\n",
              "    .dataframe tbody tr th:only-of-type {\n",
              "        vertical-align: middle;\n",
              "    }\n",
              "\n",
              "    .dataframe tbody tr th {\n",
              "        vertical-align: top;\n",
              "    }\n",
              "\n",
              "    .dataframe thead th {\n",
              "        text-align: right;\n",
              "    }\n",
              "</style>\n",
              "<table border=\"1\" class=\"dataframe\">\n",
              "  <thead>\n",
              "    <tr style=\"text-align: right;\">\n",
              "      <th></th>\n",
              "      <th>count</th>\n",
              "    </tr>\n",
              "    <tr>\n",
              "      <th>employer_city</th>\n",
              "      <th></th>\n",
              "    </tr>\n",
              "  </thead>\n",
              "  <tbody>\n",
              "    <tr>\n",
              "      <th>NEW YORK</th>\n",
              "      <td>17198</td>\n",
              "    </tr>\n",
              "    <tr>\n",
              "      <th>COLLEGE STATION</th>\n",
              "      <td>11985</td>\n",
              "    </tr>\n",
              "    <tr>\n",
              "      <th>SANTA CLARA</th>\n",
              "      <td>10519</td>\n",
              "    </tr>\n",
              "    <tr>\n",
              "      <th>SAN JOSE</th>\n",
              "      <td>9147</td>\n",
              "    </tr>\n",
              "    <tr>\n",
              "      <th>REDMOND</th>\n",
              "      <td>8485</td>\n",
              "    </tr>\n",
              "    <tr>\n",
              "      <th>...</th>\n",
              "      <td>...</td>\n",
              "    </tr>\n",
              "    <tr>\n",
              "      <th>ELYSBURG</th>\n",
              "      <td>1</td>\n",
              "    </tr>\n",
              "    <tr>\n",
              "      <th>ROCKVILLLE</th>\n",
              "      <td>1</td>\n",
              "    </tr>\n",
              "    <tr>\n",
              "      <th>GRIFFITH</th>\n",
              "      <td>1</td>\n",
              "    </tr>\n",
              "    <tr>\n",
              "      <th>WANAQUE</th>\n",
              "      <td>1</td>\n",
              "    </tr>\n",
              "    <tr>\n",
              "      <th>ROYAL OAKS</th>\n",
              "      <td>1</td>\n",
              "    </tr>\n",
              "  </tbody>\n",
              "</table>\n",
              "<p>5782 rows × 1 columns</p>\n",
              "</div><br><label><b>dtype:</b> int64</label>"
            ]
          },
          "metadata": {},
          "execution_count": 130
        }
      ],
      "source": [
        "#few values were repeated with lower case\n",
        "df['employer_city'] = df['employer_city'].str.upper()\n",
        "df['employer_city'].value_counts()"
      ]
    },
    {
      "cell_type": "code",
      "execution_count": 133,
      "metadata": {
        "colab": {
          "base_uri": "https://localhost:8080/",
          "height": 1000
        },
        "id": "MsBsf9x1x-cS",
        "outputId": "87c89149-c80a-4f1f-f2fc-c206b504f92d"
      },
      "outputs": [
        {
          "output_type": "display_data",
          "data": {
            "text/plain": [
              "<Figure size 1500x1200 with 1 Axes>"
            ],
            "image/png": "[encoded data removed]"
          },
          "metadata": {}
        }
      ],
      "source": [
        "#Create a Countplot for Employer City and Hue as Year (Top 10)\n",
        "plt.figure(figsize = (15,12))\n",
        "sns.countplot(x = 'employer_city', hue = 'year', data = df, palette = 'Set1', order = df.employer_city.value_counts().iloc[ :10].index)\n",
        "plt.title(\"Distribution of Employer City Yearwise\")\n",
        "plt.xlabel('Employer city')\n",
        "plt.ylabel('Number of Visa applications')\n",
        "plt.xticks(rotation = 90)\n",
        "plt.show()"
      ]
    },
    {
      "cell_type": "markdown",
      "source": [
        "**Insight**-There is a general upward trend in visa applications across most cities, with 2016 typically having the highest numbers."
      ],
      "metadata": {
        "id": "RrLbCc-DT-Y7"
      }
    },
    {
      "cell_type": "code",
      "execution_count": 136,
      "metadata": {
        "colab": {
          "base_uri": "https://localhost:8080/",
          "height": 813
        },
        "id": "ndRSmc-k7Hf6",
        "outputId": "c2fe9378-aa11-4b17-a240-a45b806b0257"
      },
      "outputs": [
        {
          "output_type": "display_data",
          "data": {
            "text/plain": [
              "<Figure size 640x480 with 1 Axes>"
            ],
            "image/png": "[encoded data removed]"
          },
          "metadata": {}
        }
      ],
      "source": [
        "#top 10 employers by visa application\n",
        "top_emp = df['employer_name'].value_counts().head(10)\n",
        "top_emp.plot(kind = 'bar', color = 'yellow', title = 'Top 10 employers by visa application')\n",
        "plt.xlabel('Employer Name')\n",
        "plt.ylabel('Number of Visa applications')\n",
        "\n",
        "#for top values of Bar\n",
        "for i, v in enumerate(top_emp):\n",
        "  plt.text(i, v+10,str(v), ha = 'center' , va = 'bottom', fontsize = 10)\n",
        "plt.show()"
      ]
    },
    {
      "cell_type": "markdown",
      "source": [
        "**Insight**-Cognizant Technology Solutions US Corporation leads by a significant margin, with 11,936 visa applications."
      ],
      "metadata": {
        "id": "jK21cxvtU4-d"
      }
    },
    {
      "cell_type": "code",
      "execution_count": 137,
      "metadata": {
        "colab": {
          "base_uri": "https://localhost:8080/",
          "height": 397
        },
        "id": "tTw3mQlIC472",
        "outputId": "3cdf47da-9201-40a2-b83a-7005a984d1fa"
      },
      "outputs": [
        {
          "output_type": "execute_result",
          "data": {
            "text/plain": [
              "0                       IT\n",
              "1    Other Economic Sector\n",
              "2                Aerospace\n",
              "3    Other Economic Sector\n",
              "4             Advanced Mfg\n",
              "5    Other Economic Sector\n",
              "6     Educational Services\n",
              "7             Advanced Mfg\n",
              "8                       IT\n",
              "9                   Retail\n",
              "Name: us_economic_sector, dtype: object"
            ],
            "text/html": [
              "<div>\n",
              "<style scoped>\n",
              "    .dataframe tbody tr th:only-of-type {\n",
              "        vertical-align: middle;\n",
              "    }\n",
              "\n",
              "    .dataframe tbody tr th {\n",
              "        vertical-align: top;\n",
              "    }\n",
              "\n",
              "    .dataframe thead th {\n",
              "        text-align: right;\n",
              "    }\n",
              "</style>\n",
              "<table border=\"1\" class=\"dataframe\">\n",
              "  <thead>\n",
              "    <tr style=\"text-align: right;\">\n",
              "      <th></th>\n",
              "      <th>us_economic_sector</th>\n",
              "    </tr>\n",
              "  </thead>\n",
              "  <tbody>\n",
              "    <tr>\n",
              "      <th>0</th>\n",
              "      <td>IT</td>\n",
              "    </tr>\n",
              "    <tr>\n",
              "      <th>1</th>\n",
              "      <td>Other Economic Sector</td>\n",
              "    </tr>\n",
              "    <tr>\n",
              "      <th>2</th>\n",
              "      <td>Aerospace</td>\n",
              "    </tr>\n",
              "    <tr>\n",
              "      <th>3</th>\n",
              "      <td>Other Economic Sector</td>\n",
              "    </tr>\n",
              "    <tr>\n",
              "      <th>4</th>\n",
              "      <td>Advanced Mfg</td>\n",
              "    </tr>\n",
              "    <tr>\n",
              "      <th>5</th>\n",
              "      <td>Other Economic Sector</td>\n",
              "    </tr>\n",
              "    <tr>\n",
              "      <th>6</th>\n",
              "      <td>Educational Services</td>\n",
              "    </tr>\n",
              "    <tr>\n",
              "      <th>7</th>\n",
              "      <td>Advanced Mfg</td>\n",
              "    </tr>\n",
              "    <tr>\n",
              "      <th>8</th>\n",
              "      <td>IT</td>\n",
              "    </tr>\n",
              "    <tr>\n",
              "      <th>9</th>\n",
              "      <td>Retail</td>\n",
              "    </tr>\n",
              "  </tbody>\n",
              "</table>\n",
              "</div><br><label><b>dtype:</b> object</label>"
            ]
          },
          "metadata": {},
          "execution_count": 137
        }
      ],
      "source": [
        "#Analyse Economic Sector\n",
        "df['us_economic_sector'].head(10)"
      ]
    },
    {
      "cell_type": "code",
      "execution_count": 138,
      "metadata": {
        "id": "-fMvjED9BO3T"
      },
      "outputs": [],
      "source": [
        "#for adding up the values of different Sectors\n",
        "us_economic_counts = {}\n",
        "\n",
        "for value in df['us_economic_sector'].dropna():\n",
        "  if value in us_economic_counts:\n",
        "    us_economic_counts[value] += 1\n",
        "  else:\n",
        "    us_economic_counts[value] = 1"
      ]
    },
    {
      "cell_type": "code",
      "execution_count": 139,
      "metadata": {
        "colab": {
          "base_uri": "https://localhost:8080/"
        },
        "id": "MxTd1VsjGZ5-",
        "outputId": "1b68a948-aa46-459f-9d84-f0fcde4a0b5a"
      },
      "outputs": [
        {
          "output_type": "execute_result",
          "data": {
            "text/plain": [
              "{'IT': 49311,\n",
              " 'Other Economic Sector': 14662,\n",
              " 'Aerospace': 3917,\n",
              " 'Advanced Mfg': 17601,\n",
              " 'Educational Services': 8561,\n",
              " 'Retail': 4208,\n",
              " 'Construction': 1315,\n",
              " 'Hospitality': 1767,\n",
              " 'Automotive': 1084,\n",
              " 'Health Care': 6407,\n",
              " 'Agribusiness': 784,\n",
              " 'Finance': 8686,\n",
              " 'Energy': 1021,\n",
              " 'Transportation': 893,\n",
              " 'Homeland Security': 78,\n",
              " 'Biotechnology': 436,\n",
              " 'Geospatial': 137}"
            ]
          },
          "metadata": {},
          "execution_count": 139
        }
      ],
      "source": [
        "us_economic_counts"
      ]
    },
    {
      "cell_type": "code",
      "execution_count": 144,
      "metadata": {
        "id": "zWVXGOeGGyqo"
      },
      "outputs": [],
      "source": [
        "#Split the name and number\n",
        "usecollabels = []\n",
        "usecolvalues = []\n",
        "\n",
        "explode = (0.03, 0, 0, 0, 0, 0, 0, 0, 0, 0)\n",
        "\n",
        "for key, value in us_economic_counts.items():\n",
        "  usecollabels.append(key)\n",
        "  usecolvalues.append(value)"
      ]
    },
    {
      "cell_type": "code",
      "execution_count": 142,
      "metadata": {
        "colab": {
          "base_uri": "https://localhost:8080/"
        },
        "id": "Aw-0g0w1Gynm",
        "outputId": "aa86a8a7-0682-4f6e-b49e-d69a4307b9df"
      },
      "outputs": [
        {
          "output_type": "execute_result",
          "data": {
            "text/plain": [
              "(['IT',\n",
              "  'Other Economic Sector',\n",
              "  'Aerospace',\n",
              "  'Advanced Mfg',\n",
              "  'Educational Services',\n",
              "  'Retail',\n",
              "  'Construction',\n",
              "  'Hospitality',\n",
              "  'Automotive',\n",
              "  'Health Care',\n",
              "  'Agribusiness',\n",
              "  'Finance',\n",
              "  'Energy',\n",
              "  'Transportation',\n",
              "  'Homeland Security',\n",
              "  'Biotechnology',\n",
              "  'Geospatial'],\n",
              " [49311,\n",
              "  14662,\n",
              "  3917,\n",
              "  17601,\n",
              "  8561,\n",
              "  4208,\n",
              "  1315,\n",
              "  1767,\n",
              "  1084,\n",
              "  6407,\n",
              "  784,\n",
              "  8686,\n",
              "  1021,\n",
              "  893,\n",
              "  78,\n",
              "  436,\n",
              "  137])"
            ]
          },
          "metadata": {},
          "execution_count": 142
        }
      ],
      "source": [
        "usecollabels,usecolvalues"
      ]
    },
    {
      "cell_type": "code",
      "execution_count": 146,
      "metadata": {
        "colab": {
          "base_uri": "https://localhost:8080/",
          "height": 829
        },
        "id": "QRzUnTiDIjyD",
        "outputId": "d9128267-39b2-4be7-fd1e-0fc21cd60b0d"
      },
      "outputs": [
        {
          "output_type": "display_data",
          "data": {
            "text/plain": [
              "<Figure size 1000x1000 with 1 Axes>"
            ],
            "image/png": "[encoded data removed]"
          },
          "metadata": {}
        }
      ],
      "source": [
        "#Create a Pie Chart for Economic Sector\n",
        "plt.figure(figsize = (10,10))\n",
        "plt.pie(usecolvalues[ :10], labels = usecollabels[ :10], explode = explode, autopct = '%1.1f%%' )\n",
        "plt.title(\"Distribution of Economic Sector\")\n",
        "plt.show()"
      ]
    },
    {
      "cell_type": "markdown",
      "source": [
        "**Insight**-Information Technology (IT) is the largest sector, making up 45.3% of the total, indicating the significant role of IT in the economy."
      ],
      "metadata": {
        "id": "HjsCkSJ2VRpt"
      }
    },
    {
      "cell_type": "code",
      "execution_count": 147,
      "metadata": {
        "colab": {
          "base_uri": "https://localhost:8080/",
          "height": 742
        },
        "id": "e6f3EacKJOXx",
        "outputId": "7f20cfac-3518-4e44-da14-cfebfd4cbdf9"
      },
      "outputs": [
        {
          "output_type": "execute_result",
          "data": {
            "text/plain": [
              "job_info_job_title\n",
              "Software Engineer                   14372\n",
              "Computer Systems Analyst - V         4747\n",
              "Senior Software Engineer             3801\n",
              "Computer Systems Analyst - II        3416\n",
              "Software Developer                   2880\n",
              "Assistant Professor                  2604\n",
              "Programmer Analyst                   2534\n",
              "Computer Systems Analyst - IV        2496\n",
              "Systems Analyst                      2034\n",
              "Software Development Engineer II     1630\n",
              "Poultry Processing Worker            1594\n",
              "Component Design Engineer            1064\n",
              "Poultry Processor                    1037\n",
              "Business Analyst                      963\n",
              "software engineer                     932\n",
              "SOFTWARE ENGINEER                     877\n",
              "Senior Programmer Analyst             862\n",
              "Sr. Software Engineer                 847\n",
              "Senior Software Developer             817\n",
              "Commercial Cleaner                    802\n",
              "Name: count, dtype: int64"
            ],
            "text/html": [
              "<div>\n",
              "<style scoped>\n",
              "    .dataframe tbody tr th:only-of-type {\n",
              "        vertical-align: middle;\n",
              "    }\n",
              "\n",
              "    .dataframe tbody tr th {\n",
              "        vertical-align: top;\n",
              "    }\n",
              "\n",
              "    .dataframe thead th {\n",
              "        text-align: right;\n",
              "    }\n",
              "</style>\n",
              "<table border=\"1\" class=\"dataframe\">\n",
              "  <thead>\n",
              "    <tr style=\"text-align: right;\">\n",
              "      <th></th>\n",
              "      <th>count</th>\n",
              "    </tr>\n",
              "    <tr>\n",
              "      <th>job_info_job_title</th>\n",
              "      <th></th>\n",
              "    </tr>\n",
              "  </thead>\n",
              "  <tbody>\n",
              "    <tr>\n",
              "      <th>Software Engineer</th>\n",
              "      <td>14372</td>\n",
              "    </tr>\n",
              "    <tr>\n",
              "      <th>Computer Systems Analyst - V</th>\n",
              "      <td>4747</td>\n",
              "    </tr>\n",
              "    <tr>\n",
              "      <th>Senior Software Engineer</th>\n",
              "      <td>3801</td>\n",
              "    </tr>\n",
              "    <tr>\n",
              "      <th>Computer Systems Analyst - II</th>\n",
              "      <td>3416</td>\n",
              "    </tr>\n",
              "    <tr>\n",
              "      <th>Software Developer</th>\n",
              "      <td>2880</td>\n",
              "    </tr>\n",
              "    <tr>\n",
              "      <th>Assistant Professor</th>\n",
              "      <td>2604</td>\n",
              "    </tr>\n",
              "    <tr>\n",
              "      <th>Programmer Analyst</th>\n",
              "      <td>2534</td>\n",
              "    </tr>\n",
              "    <tr>\n",
              "      <th>Computer Systems Analyst - IV</th>\n",
              "      <td>2496</td>\n",
              "    </tr>\n",
              "    <tr>\n",
              "      <th>Systems Analyst</th>\n",
              "      <td>2034</td>\n",
              "    </tr>\n",
              "    <tr>\n",
              "      <th>Software Development Engineer II</th>\n",
              "      <td>1630</td>\n",
              "    </tr>\n",
              "    <tr>\n",
              "      <th>Poultry Processing Worker</th>\n",
              "      <td>1594</td>\n",
              "    </tr>\n",
              "    <tr>\n",
              "      <th>Component Design Engineer</th>\n",
              "      <td>1064</td>\n",
              "    </tr>\n",
              "    <tr>\n",
              "      <th>Poultry Processor</th>\n",
              "      <td>1037</td>\n",
              "    </tr>\n",
              "    <tr>\n",
              "      <th>Business Analyst</th>\n",
              "      <td>963</td>\n",
              "    </tr>\n",
              "    <tr>\n",
              "      <th>software engineer</th>\n",
              "      <td>932</td>\n",
              "    </tr>\n",
              "    <tr>\n",
              "      <th>SOFTWARE ENGINEER</th>\n",
              "      <td>877</td>\n",
              "    </tr>\n",
              "    <tr>\n",
              "      <th>Senior Programmer Analyst</th>\n",
              "      <td>862</td>\n",
              "    </tr>\n",
              "    <tr>\n",
              "      <th>Sr. Software Engineer</th>\n",
              "      <td>847</td>\n",
              "    </tr>\n",
              "    <tr>\n",
              "      <th>Senior Software Developer</th>\n",
              "      <td>817</td>\n",
              "    </tr>\n",
              "    <tr>\n",
              "      <th>Commercial Cleaner</th>\n",
              "      <td>802</td>\n",
              "    </tr>\n",
              "  </tbody>\n",
              "</table>\n",
              "</div><br><label><b>dtype:</b> int64</label>"
            ]
          },
          "metadata": {},
          "execution_count": 147
        }
      ],
      "source": [
        "#Job Info Job Title\n",
        "df['job_info_job_title'].value_counts()[0:20]"
      ]
    },
    {
      "cell_type": "code",
      "execution_count": 148,
      "metadata": {
        "colab": {
          "base_uri": "https://localhost:8080/",
          "height": 36
        },
        "id": "-8Mk8D5xSQZG",
        "outputId": "e6452615-c8b3-4f20-f390-8916dd5b3552"
      },
      "outputs": [
        {
          "output_type": "execute_result",
          "data": {
            "text/plain": [
              "'Computer Systems Analyst '"
            ],
            "application/vnd.google.colaboratory.intrinsic+json": {
              "type": "string"
            }
          },
          "metadata": {},
          "execution_count": 148
        }
      ],
      "source": [
        "\"Computer Systems Analyst - II\".split('-')[0]"
      ]
    },
    {
      "cell_type": "code",
      "execution_count": 149,
      "metadata": {
        "colab": {
          "base_uri": "https://localhost:8080/",
          "height": 429
        },
        "id": "TGwoMqweSQVU",
        "outputId": "251f8004-a129-4748-8628-c744875eb585"
      },
      "outputs": [
        {
          "output_type": "execute_result",
          "data": {
            "text/plain": [
              "job_info_job_title\n",
              "software engineer                18582\n",
              "computer systems analyst         12054\n",
              "senior software engineer          5802\n",
              "software developer                4501\n",
              "programmer analyst                3763\n",
              "assistant professor               2869\n",
              "software development engineer     2766\n",
              "systems analyst                   2587\n",
              "senior programmer analyst         1884\n",
              "senior software developer         1625\n",
              "Name: count, dtype: int64"
            ],
            "text/html": [
              "<div>\n",
              "<style scoped>\n",
              "    .dataframe tbody tr th:only-of-type {\n",
              "        vertical-align: middle;\n",
              "    }\n",
              "\n",
              "    .dataframe tbody tr th {\n",
              "        vertical-align: top;\n",
              "    }\n",
              "\n",
              "    .dataframe thead th {\n",
              "        text-align: right;\n",
              "    }\n",
              "</style>\n",
              "<table border=\"1\" class=\"dataframe\">\n",
              "  <thead>\n",
              "    <tr style=\"text-align: right;\">\n",
              "      <th></th>\n",
              "      <th>count</th>\n",
              "    </tr>\n",
              "    <tr>\n",
              "      <th>job_info_job_title</th>\n",
              "      <th></th>\n",
              "    </tr>\n",
              "  </thead>\n",
              "  <tbody>\n",
              "    <tr>\n",
              "      <th>software engineer</th>\n",
              "      <td>18582</td>\n",
              "    </tr>\n",
              "    <tr>\n",
              "      <th>computer systems analyst</th>\n",
              "      <td>12054</td>\n",
              "    </tr>\n",
              "    <tr>\n",
              "      <th>senior software engineer</th>\n",
              "      <td>5802</td>\n",
              "    </tr>\n",
              "    <tr>\n",
              "      <th>software developer</th>\n",
              "      <td>4501</td>\n",
              "    </tr>\n",
              "    <tr>\n",
              "      <th>programmer analyst</th>\n",
              "      <td>3763</td>\n",
              "    </tr>\n",
              "    <tr>\n",
              "      <th>assistant professor</th>\n",
              "      <td>2869</td>\n",
              "    </tr>\n",
              "    <tr>\n",
              "      <th>software development engineer</th>\n",
              "      <td>2766</td>\n",
              "    </tr>\n",
              "    <tr>\n",
              "      <th>systems analyst</th>\n",
              "      <td>2587</td>\n",
              "    </tr>\n",
              "    <tr>\n",
              "      <th>senior programmer analyst</th>\n",
              "      <td>1884</td>\n",
              "    </tr>\n",
              "    <tr>\n",
              "      <th>senior software developer</th>\n",
              "      <td>1625</td>\n",
              "    </tr>\n",
              "  </tbody>\n",
              "</table>\n",
              "</div><br><label><b>dtype:</b> int64</label>"
            ]
          },
          "metadata": {},
          "execution_count": 149
        }
      ],
      "source": [
        "#Converting values to lower case\n",
        "df['job_info_job_title'] = df['job_info_job_title'].str.lower()\n",
        "\n",
        "#Splitting job titles by '-' 'ii' and '/'\n",
        "df['job_info_job_title'] = df['job_info_job_title'].astype(str).str.split('-').str[0]\n",
        "df['job_info_job_title'] = df['job_info_job_title'].astype(str).str.split('ii').str[0]\n",
        "df['job_info_job_title'] = df['job_info_job_title'].astype(str).str.split('/').str[0]\n",
        "\n",
        "#Removing leading and ending spaces\n",
        "df['job_info_job_title'] = df['job_info_job_title'].astype(str).str.strip()\n",
        "\n",
        "#Replacing \"sr.\" values with \"senior\"\n",
        "df['job_info_job_title'] = df['job_info_job_title'].str.replace('sr.', 'senior')\n",
        "\n",
        "\n",
        "#Replacing \"NaN\", \"NaT\" and \"nan\" values with np.nan\n",
        "df['job_info_job_title'].replace([\"NaN\", 'NaT','nan'], np.nan, inplace = True)\n",
        "\n",
        "df['job_info_job_title'].value_counts(dropna = True)[ :10]\n"
      ]
    },
    {
      "cell_type": "code",
      "execution_count": 150,
      "metadata": {
        "id": "yspIarDKWP17",
        "colab": {
          "base_uri": "https://localhost:8080/",
          "height": 1000
        },
        "outputId": "70c54680-7742-4078-fbf1-fb4a4a18f684"
      },
      "outputs": [
        {
          "output_type": "display_data",
          "data": {
            "text/plain": [
              "<Figure size 1500x1500 with 1 Axes>"
            ],
            "image/png": "[encoded data removed]"
          },
          "metadata": {}
        }
      ],
      "source": [
        "#Get the top 10 job titles by count\n",
        "top_job_title = df['job_info_job_title'].value_counts().head(10)\n",
        "\n",
        "#Create a bar plot\n",
        "plt.figure(figsize = (15,15))\n",
        "plt.bar(top_job_title.index, top_job_title, color = sns.color_palette('viridis', len(top_job_title)))\n",
        "\n",
        "# Add count labels above the bars\n",
        "for i, v in enumerate(top_job_title):\n",
        "  plt.text(i, v+10,str(v), ha = 'center' , va = 'bottom', fontsize = 10)\n",
        "\n",
        "plt.title(\"Bar Chart for Top 10 Job Titles by Visa Applications\")\n",
        "plt.xlabel('Job Title')\n",
        "plt.ylabel('Number of Visa applications')\n",
        "plt.xticks(rotation = 90)\n",
        "plt.show()\n",
        "\n",
        "\n",
        "\n"
      ]
    },
    {
      "cell_type": "markdown",
      "source": [
        "**Insight**-Software engineer applied for most visa i.e 18582"
      ],
      "metadata": {
        "id": "DDNEAVvrXImt"
      }
    },
    {
      "cell_type": "code",
      "execution_count": 151,
      "metadata": {
        "colab": {
          "base_uri": "https://localhost:8080/",
          "height": 819
        },
        "id": "6mxVlc8Ah530",
        "outputId": "56c74dae-ed0a-4931-b7b1-25dcdd5f8a4a"
      },
      "outputs": [
        {
          "output_type": "display_data",
          "data": {
            "text/plain": [
              "<Figure size 1270x827 with 1 Axes>"
            ],
            "image/png": "[encoded data removed]"
          },
          "metadata": {}
        }
      ],
      "source": [
        "#Analyse Country of Citizenship\n",
        "# Convert 'country_of_citizenship' column to categorical data type\n",
        "df['country_of_citizenship'] = pd.Categorical(df['country_of_citizenship'])\n",
        "\n",
        "# Setting plot parameters\n",
        "fig, ax = plt.subplots(figsize=(12.7, 8.27))\n",
        "sns.set_context(rc={\"font.size\":14, \"axes.labelsize\":12})\n",
        "\n",
        "# Creating the count plot\n",
        "sns.countplot(x='country_of_citizenship', hue='case_status', data=df,\n",
        "              palette=sns.diverging_palette(255, 133, l=60, n=7, center=\"light\"),\n",
        "              order=df.country_of_citizenship.value_counts().iloc[:7].index)\n",
        "\n",
        "plt.xticks(rotation=90)\n",
        "\n",
        "# Setting label titles\n",
        "ax.set(xlabel='Country of citizenship', ylabel='Number of Visa applications')\n",
        "\n",
        "plt.show()"
      ]
    },
    {
      "cell_type": "markdown",
      "source": [
        "**Insight**-This chart highlights the overwhelming number of visa applications from India compared to other countries and shows that the majority of applications, regardless of the country of origin, tend to be certified. The data suggests that applicants from India are the most active in seeking visas, possibly reflecting the country's large population and global workforce mobility."
      ],
      "metadata": {
        "id": "qHynniuNYn5d"
      }
    },
    {
      "cell_type": "code",
      "execution_count": 152,
      "metadata": {
        "colab": {
          "base_uri": "https://localhost:8080/",
          "height": 644
        },
        "id": "7GRcp_cyh1TG",
        "outputId": "23fcc5c5-aede-4891-f734-f3c3e6eda143"
      },
      "outputs": [
        {
          "output_type": "display_data",
          "data": {
            "text/plain": [
              "<Figure size 1070x727 with 1 Axes>"
            ],
            "image/png": "[encoded data removed]"
          },
          "metadata": {}
        }
      ],
      "source": [
        "# Setting plot parameters\n",
        "plt.figure(figsize=(10.7, 7.27))\n",
        "\n",
        "# Creating the count plot\n",
        "sns.countplot(x='application_type', data=df, palette='GnBu_d', order=df['application_type'].value_counts().index[:10])\n",
        "\n",
        "# Iterating over elements in \"application_type\" column and displaying counts above bars\n",
        "for i, v in enumerate(df['application_type'].value_counts().head(10)):\n",
        "    plt.text(i, v, str(v), ha='center', va='bottom')\n",
        "\n",
        "# Setting labels\n",
        "plt.xlabel('Application type')\n",
        "plt.ylabel('Number of Visa applications')\n",
        "plt.show()\n"
      ]
    },
    {
      "cell_type": "markdown",
      "source": [
        "**Insight**-The data shows a clear trend towards digital submission methods, with online applications being the most popular by a large margin. The low number of mailed-in applications suggests a shift away from paper-based processes. This trend likely reflects broader technological adoption and the efficiency of online systems."
      ],
      "metadata": {
        "id": "g7HeRvfbZPO9"
      }
    },
    {
      "cell_type": "code",
      "execution_count": 153,
      "metadata": {
        "colab": {
          "base_uri": "https://localhost:8080/",
          "height": 721
        },
        "id": "VQJjYeBHiXf1",
        "outputId": "983e38cd-44ef-420f-f052-d61ae6d43ba7"
      },
      "outputs": [
        {
          "output_type": "display_data",
          "data": {
            "text/plain": [
              "<Figure size 1270x827 with 1 Axes>"
            ],
            "image/png": "[encoded data removed]"
          },
          "metadata": {}
        }
      ],
      "source": [
        "# Setting plot parameters\n",
        "fig, ax = plt.subplots()\n",
        "fig.set_size_inches(12.7, 8.27)\n",
        "\n",
        "# Creating the count plot\n",
        "sns.countplot(x='foreign_worker_info_education', data=df,\n",
        "              palette=sns.color_palette(\"Paired\"),\n",
        "              order=df['foreign_worker_info_education'].value_counts().index[:10])\n",
        "\n",
        "# Iterating over elements in \"foreign_worker_info_education\" column and displaying counts above bars\n",
        "for i, v in enumerate(df['foreign_worker_info_education'].value_counts().head(10)):\n",
        "    ax.text(i, v, str(v), horizontalalignment='center', verticalalignment='bottom')\n",
        "\n",
        "# Setting label titles\n",
        "ax.set(xlabel='Education level', ylabel='Number of Visa applications')\n",
        "plt.show()"
      ]
    },
    {
      "cell_type": "markdown",
      "source": [
        "**Insight**-The data highlights that the majority of visa applicants possess at least a Bachelor's degree, with a substantial number holding advanced degrees. This trend suggests that the visa application pool is predominantly composed of highly educated individuals."
      ],
      "metadata": {
        "id": "eo95sh_IZvXy"
      }
    },
    {
      "cell_type": "code",
      "source": [
        "#percentage of non null values\n",
        "i = 0;\n",
        "for col in df.columns:\n",
        "  i = i + 1;\n",
        "  print(i-1, \"column : '{}\".format (col), \"contain\", np.round(100*df[col].count()/len(df[col]),decimals = 2), \"% non-null values\")"
      ],
      "metadata": {
        "id": "mxTRnNO8Ckqi",
        "colab": {
          "base_uri": "https://localhost:8080/"
        },
        "outputId": "36c4f841-306c-43f3-98e7-6e7f5ca1315c"
      },
      "execution_count": 156,
      "outputs": [
        {
          "output_type": "stream",
          "name": "stdout",
          "text": [
            "0 column : 'add_these_pw_job_title_9089 contain 10.99 % non-null values\n",
            "1 column : 'agent_city contain 56.92 % non-null values\n",
            "2 column : 'agent_firm_name contain 55.74 % non-null values\n",
            "3 column : 'agent_state contain 56.05 % non-null values\n",
            "4 column : 'application_type contain 35.61 % non-null values\n",
            "5 column : 'case_received_date contain 64.39 % non-null values\n",
            "6 column : 'case_status contain 100.0 % non-null values\n",
            "7 column : 'class_of_admission contain 94.08 % non-null values\n",
            "8 column : 'country_of_citizenship contain 94.59 % non-null values\n",
            "9 column : 'country_of_citzenship contain 5.4 % non-null values\n",
            "10 column : 'decision_date contain 100.0 % non-null values\n",
            "11 column : 'employer_address_1 contain 99.99 % non-null values\n",
            "12 column : 'employer_address_2 contain 33.7 % non-null values\n",
            "13 column : 'employer_city contain 100.0 % non-null values\n",
            "14 column : 'employer_country contain 64.37 % non-null values\n",
            "15 column : 'employer_decl_info_title contain 64.37 % non-null values\n",
            "16 column : 'employer_name contain 100.0 % non-null values\n",
            "17 column : 'employer_num_employees contain 64.36 % non-null values\n",
            "18 column : 'employer_phone contain 64.38 % non-null values\n",
            "19 column : 'employer_phone_ext contain 6.32 % non-null values\n",
            "20 column : 'employer_postal_code contain 99.99 % non-null values\n",
            "21 column : 'employer_state contain 99.99 % non-null values\n",
            "22 column : 'employer_yr_estab contain 64.35 % non-null values\n",
            "23 column : 'foreign_worker_info_alt_edu_experience contain 23.66 % non-null values\n",
            "24 column : 'foreign_worker_info_birth_country contain 23.67 % non-null values\n",
            "25 column : 'foreign_worker_info_city contain 64.38 % non-null values\n",
            "26 column : 'foreign_worker_info_education contain 59.69 % non-null values\n",
            "27 column : 'foreign_worker_info_education_other contain 1.05 % non-null values\n",
            "28 column : 'foreign_worker_info_inst contain 59.6 % non-null values\n",
            "29 column : 'foreign_worker_info_major contain 59.35 % non-null values\n",
            "30 column : 'foreign_worker_info_postal_code contain 22.95 % non-null values\n",
            "31 column : 'foreign_worker_info_rel_occup_exp contain 23.67 % non-null values\n",
            "32 column : 'foreign_worker_info_req_experience contain 23.67 % non-null values\n",
            "33 column : 'foreign_worker_info_state contain 60.01 % non-null values\n",
            "34 column : 'foreign_worker_info_training_comp contain 23.67 % non-null values\n",
            "35 column : 'foreign_worker_ownership_interest contain 23.67 % non-null values\n",
            "36 column : 'foreign_worker_yr_rel_edu_completed contain 22.3 % non-null values\n",
            "37 column : 'fw_info_alt_edu_experience contain 40.72 % non-null values\n",
            "38 column : 'fw_info_birth_country contain 40.71 % non-null values\n",
            "39 column : 'fw_info_education_other contain 1.71 % non-null values\n",
            "40 column : 'fw_info_postal_code contain 40.12 % non-null values\n",
            "41 column : 'fw_info_rel_occup_exp contain 40.71 % non-null values\n",
            "42 column : 'fw_info_req_experience contain 40.72 % non-null values\n",
            "43 column : 'fw_info_training_comp contain 40.71 % non-null values\n",
            "44 column : 'fw_info_yr_rel_edu_completed contain 37.35 % non-null values\n",
            "45 column : 'fw_ownership_interest contain 40.72 % non-null values\n",
            "46 column : 'ji_foreign_worker_live_on_premises contain 23.67 % non-null values\n",
            "47 column : 'ji_fw_live_on_premises contain 40.72 % non-null values\n",
            "48 column : 'ji_live_in_dom_svc_contract contain 0.65 % non-null values\n",
            "49 column : 'ji_live_in_domestic_service contain 64.38 % non-null values\n",
            "50 column : 'ji_offered_to_sec_j_foreign_worker contain 23.67 % non-null values\n",
            "51 column : 'ji_offered_to_sec_j_fw contain 40.72 % non-null values\n",
            "52 column : 'job_info_alt_cmb_ed_oth_yrs contain 19.07 % non-null values\n",
            "53 column : 'job_info_alt_combo_ed contain 18.57 % non-null values\n",
            "54 column : 'job_info_alt_combo_ed_exp contain 64.38 % non-null values\n",
            "55 column : 'job_info_alt_combo_ed_other contain 2.52 % non-null values\n",
            "56 column : 'job_info_alt_field contain 64.38 % non-null values\n",
            "57 column : 'job_info_alt_field_name contain 25.34 % non-null values\n",
            "58 column : 'job_info_alt_occ contain 40.15 % non-null values\n",
            "59 column : 'job_info_alt_occ_job_title contain 39.96 % non-null values\n",
            "60 column : 'job_info_alt_occ_num_months contain 39.9 % non-null values\n",
            "61 column : 'job_info_combo_occupation contain 64.38 % non-null values\n",
            "62 column : 'job_info_education contain 58.55 % non-null values\n",
            "63 column : 'job_info_education_other contain 2.09 % non-null values\n",
            "64 column : 'job_info_experience contain 64.38 % non-null values\n",
            "65 column : 'job_info_experience_num_months contain 36.2 % non-null values\n",
            "66 column : 'job_info_foreign_ed contain 64.32 % non-null values\n",
            "67 column : 'job_info_foreign_lang_req contain 64.38 % non-null values\n",
            "68 column : 'job_info_job_req_normal contain 64.38 % non-null values\n",
            "69 column : 'job_info_job_title contain 64.37 % non-null values\n",
            "70 column : 'job_info_major contain 57.54 % non-null values\n",
            "71 column : 'job_info_training contain 64.38 % non-null values\n",
            "72 column : 'job_info_training_field contain 1.2 % non-null values\n",
            "73 column : 'job_info_training_num_months contain 1.28 % non-null values\n",
            "74 column : 'job_info_work_city contain 99.97 % non-null values\n",
            "75 column : 'job_info_work_postal_code contain 64.36 % non-null values\n",
            "76 column : 'job_info_work_state contain 99.97 % non-null values\n",
            "77 column : 'naics_2007_us_code contain 5.38 % non-null values\n",
            "78 column : 'naics_2007_us_title contain 5.21 % non-null values\n",
            "79 column : 'naics_code contain 23.61 % non-null values\n",
            "80 column : 'naics_title contain 23.61 % non-null values\n",
            "81 column : 'naics_us_code contain 40.63 % non-null values\n",
            "82 column : 'naics_us_code_2007 contain 30.11 % non-null values\n",
            "83 column : 'naics_us_title contain 40.63 % non-null values\n",
            "84 column : 'naics_us_title_2007 contain 29.28 % non-null values\n",
            "85 column : 'orig_case_no contain 0.08 % non-null values\n",
            "86 column : 'orig_file_date contain 0.07 % non-null values\n",
            "87 column : 'preparer_info_emp_completed contain 64.37 % non-null values\n",
            "88 column : 'preparer_info_title contain 56.59 % non-null values\n",
            "89 column : 'pw_amount_9089 contain 99.38 % non-null values\n",
            "90 column : 'pw_determ_date contain 64.3 % non-null values\n",
            "91 column : 'pw_expire_date contain 64.28 % non-null values\n",
            "92 column : 'pw_job_title_908 contain 40.7 % non-null values\n",
            "93 column : 'pw_job_title_9089 contain 59.2 % non-null values\n",
            "94 column : 'pw_level_9089 contain 92.54 % non-null values\n",
            "95 column : 'pw_soc_code contain 99.84 % non-null values\n",
            "96 column : 'pw_soc_title contain 99.35 % non-null values\n",
            "97 column : 'pw_source_name_9089 contain 99.41 % non-null values\n",
            "98 column : 'pw_source_name_other_9089 contain 4.28 % non-null values\n",
            "99 column : 'pw_track_num contain 63.87 % non-null values\n",
            "100 column : 'pw_unit_of_pay_9089 contain 99.58 % non-null values\n",
            "101 column : 'rec_info_barg_rep_notified contain 23.65 % non-null values\n",
            "102 column : 'recr_info_barg_rep_notified contain 40.71 % non-null values\n",
            "103 column : 'recr_info_coll_teach_comp_proc contain 1.91 % non-null values\n",
            "104 column : 'recr_info_coll_univ_teacher contain 64.38 % non-null values\n",
            "105 column : 'recr_info_employer_rec_payment contain 64.38 % non-null values\n",
            "106 column : 'recr_info_first_ad_start contain 62.71 % non-null values\n",
            "107 column : 'recr_info_job_fair_from contain 0.48 % non-null values\n",
            "108 column : 'recr_info_job_fair_to contain 0.48 % non-null values\n",
            "109 column : 'recr_info_on_campus_recr_from contain 0.5 % non-null values\n",
            "110 column : 'recr_info_on_campus_recr_to contain 0.49 % non-null values\n",
            "111 column : 'recr_info_pro_org_advert_from contain 3.73 % non-null values\n",
            "112 column : 'recr_info_pro_org_advert_to contain 3.73 % non-null values\n",
            "113 column : 'recr_info_prof_org_advert_from contain 7.69 % non-null values\n",
            "114 column : 'recr_info_prof_org_advert_to contain 7.69 % non-null values\n",
            "115 column : 'recr_info_professional_occ contain 64.38 % non-null values\n",
            "116 column : 'recr_info_radio_tv_ad_from contain 5.48 % non-null values\n",
            "117 column : 'recr_info_radio_tv_ad_to contain 5.48 % non-null values\n",
            "118 column : 'recr_info_second_ad_start contain 62.7 % non-null values\n",
            "119 column : 'recr_info_sunday_newspaper contain 62.74 % non-null values\n",
            "120 column : 'recr_info_swa_job_order_end contain 62.7 % non-null values\n",
            "121 column : 'recr_info_swa_job_order_start contain 62.71 % non-null values\n",
            "122 column : 'refile contain 30.41 % non-null values\n",
            "123 column : 'ri_1st_ad_newspaper_name contain 62.72 % non-null values\n",
            "124 column : 'ri_2nd_ad_newspaper_name contain 62.7 % non-null values\n",
            "125 column : 'ri_2nd_ad_newspaper_or_journal contain 62.71 % non-null values\n",
            "126 column : 'ri_campus_placement_from contain 8.08 % non-null values\n",
            "127 column : 'ri_campus_placement_to contain 8.08 % non-null values\n",
            "128 column : 'ri_coll_tch_basic_process contain 1.91 % non-null values\n",
            "129 column : 'ri_coll_teach_pro_jnl contain 1.56 % non-null values\n",
            "130 column : 'ri_coll_teach_select_date contain 1.56 % non-null values\n",
            "131 column : 'ri_employee_referral_prog_from contain 18.62 % non-null values\n",
            "132 column : 'ri_employee_referral_prog_to contain 18.62 % non-null values\n",
            "133 column : 'ri_employer_web_post_from contain 37.03 % non-null values\n",
            "134 column : 'ri_employer_web_post_to contain 37.02 % non-null values\n",
            "135 column : 'ri_job_search_website_from contain 53.29 % non-null values\n",
            "136 column : 'ri_job_search_website_to contain 53.28 % non-null values\n",
            "137 column : 'ri_layoff_in_past_six_months contain 64.38 % non-null values\n",
            "138 column : 'ri_local_ethnic_paper_from contain 32.66 % non-null values\n",
            "139 column : 'ri_local_ethnic_paper_to contain 32.66 % non-null values\n",
            "140 column : 'ri_posted_notice_at_worksite contain 64.36 % non-null values\n",
            "141 column : 'ri_pvt_employment_firm_from contain 4.53 % non-null values\n",
            "142 column : 'ri_pvt_employment_firm_to contain 4.52 % non-null values\n",
            "143 column : 'ri_us_workers_considered contain 4.65 % non-null values\n",
            "144 column : 'schd_a_sheepherder contain 64.38 % non-null values\n",
            "145 column : 'us_economic_sector contain 33.94 % non-null values\n",
            "146 column : 'wage_offer_from_9089 contain 69.76 % non-null values\n",
            "147 column : 'wage_offer_to_9089 contain 19.87 % non-null values\n",
            "148 column : 'wage_offer_unit_of_pay_9089 contain 69.46 % non-null values\n",
            "149 column : 'wage_offered_from_9089 contain 30.21 % non-null values\n",
            "150 column : 'wage_offered_to_9089 contain 8.23 % non-null values\n",
            "151 column : 'wage_offered_unit_of_pay_9089 contain 18.73 % non-null values\n",
            "152 column : 'casenumber contain 100.0 % non-null values\n",
            "153 column : 'year contain 100.0 % non-null values\n"
          ]
        }
      ]
    },
    {
      "cell_type": "code",
      "source": [
        "#keep the columns with non null values count > 330000\n",
        "df = df.loc[:, df.count() >= 330000]\n",
        "df.info()"
      ],
      "metadata": {
        "id": "zl2t3ZS-rMQH",
        "colab": {
          "base_uri": "https://localhost:8080/"
        },
        "outputId": "164bc463-af84-4afb-e4b7-4381ed1f6a33"
      },
      "execution_count": 157,
      "outputs": [
        {
          "output_type": "stream",
          "name": "stdout",
          "text": [
            "<class 'pandas.core.frame.DataFrame'>\n",
            "Index: 356168 entries, 0 to 374353\n",
            "Data columns (total 18 columns):\n",
            " #   Column                  Non-Null Count   Dtype         \n",
            "---  ------                  --------------   -----         \n",
            " 0   case_status             356168 non-null  object        \n",
            " 1   class_of_admission      335083 non-null  object        \n",
            " 2   country_of_citizenship  336896 non-null  category      \n",
            " 3   decision_date           356168 non-null  datetime64[ns]\n",
            " 4   employer_address_1      356131 non-null  object        \n",
            " 5   employer_city           356158 non-null  object        \n",
            " 6   employer_name           356160 non-null  object        \n",
            " 7   employer_postal_code    356135 non-null  object        \n",
            " 8   employer_state          356131 non-null  object        \n",
            " 9   job_info_work_city      356073 non-null  object        \n",
            " 10  job_info_work_state     356072 non-null  object        \n",
            " 11  pw_amount_9089          353965 non-null  object        \n",
            " 12  pw_soc_code             355594 non-null  object        \n",
            " 13  pw_soc_title            353847 non-null  object        \n",
            " 14  pw_source_name_9089     354081 non-null  object        \n",
            " 15  pw_unit_of_pay_9089     354687 non-null  object        \n",
            " 16  casenumber              356168 non-null  object        \n",
            " 17  year                    356168 non-null  int32         \n",
            "dtypes: category(1), datetime64[ns](1), int32(1), object(15)\n",
            "memory usage: 48.2+ MB\n"
          ]
        }
      ]
    },
    {
      "cell_type": "code",
      "source": [
        "#Convert Cat data to numeric for ML model"
      ],
      "metadata": {
        "id": "9T4Tx76v8LXc"
      },
      "execution_count": 158,
      "outputs": []
    },
    {
      "cell_type": "code",
      "source": [
        "#Case Status\n",
        "df.loc[df['case_status'] == 'Certified', 'case_status'] = 1\n",
        "df.loc[df['case_status'] == 'Denied', 'case_status'] = 0\n"
      ],
      "metadata": {
        "id": "KobEvPGY92rZ"
      },
      "execution_count": 161,
      "outputs": []
    },
    {
      "cell_type": "code",
      "source": [
        "df.case_status.unique()"
      ],
      "metadata": {
        "colab": {
          "base_uri": "https://localhost:8080/"
        },
        "id": "Q0wvpIc2-x1q",
        "outputId": "f4ab347a-3b94-4f28-9e34-118354807081"
      },
      "execution_count": 162,
      "outputs": [
        {
          "output_type": "execute_result",
          "data": {
            "text/plain": [
              "array([1, 0], dtype=object)"
            ]
          },
          "metadata": {},
          "execution_count": 162
        }
      ]
    },
    {
      "cell_type": "code",
      "source": [
        "#Analyse Employer state\n",
        "df['employer_state'].isnull().sum()"
      ],
      "metadata": {
        "colab": {
          "base_uri": "https://localhost:8080/"
        },
        "id": "6u9Y0T2h_QHw",
        "outputId": "08692065-df3b-4ad3-eb04-b1082fc310b7"
      },
      "execution_count": 163,
      "outputs": [
        {
          "output_type": "execute_result",
          "data": {
            "text/plain": [
              "37"
            ]
          },
          "metadata": {},
          "execution_count": 163
        }
      ]
    },
    {
      "cell_type": "code",
      "source": [
        "df['employer_state'].mode()[0]"
      ],
      "metadata": {
        "colab": {
          "base_uri": "https://localhost:8080/",
          "height": 36
        },
        "id": "DFUejooa_Xng",
        "outputId": "b8d21ef1-d9f0-43c4-b614-ca9544d39f7f"
      },
      "execution_count": 164,
      "outputs": [
        {
          "output_type": "execute_result",
          "data": {
            "text/plain": [
              "'CALIFORNIA'"
            ],
            "application/vnd.google.colaboratory.intrinsic+json": {
              "type": "string"
            }
          },
          "metadata": {},
          "execution_count": 164
        }
      ]
    },
    {
      "cell_type": "code",
      "source": [
        "df['employer_state'] = df['employer_state'].fillna(df['employer_state'].mode()[0])"
      ],
      "metadata": {
        "id": "htshzncq_bOc"
      },
      "execution_count": 165,
      "outputs": []
    },
    {
      "cell_type": "code",
      "source": [],
      "metadata": {
        "id": "mpv-bccW_rIP"
      },
      "execution_count": null,
      "outputs": []
    },
    {
      "cell_type": "code",
      "source": [
        "#Mapping from state name to abbreviation-Data given by Business team\n",
        "state_abbrevs = {\n",
        "    'Alabama': 'AL',\n",
        "    'Alaska': 'AK',\n",
        "    'Arizona': 'AZ',\n",
        "    'Arkansas': 'AR',\n",
        "    'California': 'CA',\n",
        "    'Colorado': 'CO',\n",
        "    'Connecticut': 'CT',\n",
        "    'Delaware': 'DE',\n",
        "    'Florida': 'FL',\n",
        "    'Georgia': 'GA',\n",
        "    'Hawaii': 'HI',\n",
        "    'Idaho': 'ID',\n",
        "    'Illinois': 'IL',\n",
        "    'Indiana': 'IN',\n",
        "    'Iowa': 'IA',\n",
        "    'Kansas': 'KS',\n",
        "    'Kentucky': 'KY',\n",
        "    'Louisiana': 'LA',\n",
        "    'Maine': 'ME',\n",
        "    'Maryland': 'MD',\n",
        "    'Massachusetts': 'MA',\n",
        "    'Michigan': 'MI',\n",
        "    'Minnesota': 'MN',\n",
        "    'Mississippi': 'MS',\n",
        "    'Missouri': 'MO',\n",
        "    'Montana': 'MT',\n",
        "    'Nebraska': 'NE',\n",
        "    'Nevada': 'NV',\n",
        "    'New Hampshire': 'NH',\n",
        "    'New Jersey': 'NJ',\n",
        "    'New Mexico': 'NM',\n",
        "    'New York': 'NY',\n",
        "    'North Carolina': 'NC',\n",
        "    'North Dakota': 'ND',\n",
        "    'Ohio': 'OH',\n",
        "    'Oklahoma': 'OK',\n",
        "    'Oregon': 'OR',\n",
        "    'Pennsylvania': 'PA',\n",
        "    'Rhode Island': 'RI',\n",
        "    'South Carolina': 'SC',\n",
        "    'South Dakota': 'SD',\n",
        "    'Tennessee': 'TN',\n",
        "    'Texas': 'TX',\n",
        "    'Utah': 'UT',\n",
        "    'Vermont': 'VT',\n",
        "    'Virginia': 'VA',\n",
        "    'Washington': 'WA',\n",
        "    'West Virginia': 'WV',\n",
        "    'Wisconsin': 'WI',\n",
        "    'Wyoming': 'WY',\n",
        "    'Northern Mariana Islands':'MP',\n",
        "    'Palau': 'PW',\n",
        "    'Puerto Rico': 'PR',\n",
        "    'Virgin Islands': 'VI',\n",
        "    'District of Columbia': 'DC'\n",
        "}\n",
        "\n",
        "#Capitalizing Keys\n",
        "us_state_abbrev = {k.upper(): v for k, v in state_abbrevs.items()}\n",
        "df['employer_state'].replace(us_state_abbrev, inplace = True)\n",
        "df['employer_state'] = df['employer_state'].astype(str)"
      ],
      "metadata": {
        "id": "cRsVoQLu_vDN"
      },
      "execution_count": 166,
      "outputs": []
    },
    {
      "cell_type": "code",
      "source": [
        "#Analyse PW SOC Code\n",
        "df['pw_soc_code'].head()"
      ],
      "metadata": {
        "colab": {
          "base_uri": "https://localhost:8080/",
          "height": 241
        },
        "id": "OJpw91arFFmi",
        "outputId": "042831ca-171c-4f0d-9b80-b36b811ff6ef"
      },
      "execution_count": 168,
      "outputs": [
        {
          "output_type": "execute_result",
          "data": {
            "text/plain": [
              "0    15-1031.00\n",
              "1    47-4041.00\n",
              "2    17-2051.00\n",
              "3    43-4071.00\n",
              "4    41-9031.00\n",
              "Name: pw_soc_code, dtype: object"
            ],
            "text/html": [
              "<div>\n",
              "<style scoped>\n",
              "    .dataframe tbody tr th:only-of-type {\n",
              "        vertical-align: middle;\n",
              "    }\n",
              "\n",
              "    .dataframe tbody tr th {\n",
              "        vertical-align: top;\n",
              "    }\n",
              "\n",
              "    .dataframe thead th {\n",
              "        text-align: right;\n",
              "    }\n",
              "</style>\n",
              "<table border=\"1\" class=\"dataframe\">\n",
              "  <thead>\n",
              "    <tr style=\"text-align: right;\">\n",
              "      <th></th>\n",
              "      <th>pw_soc_code</th>\n",
              "    </tr>\n",
              "  </thead>\n",
              "  <tbody>\n",
              "    <tr>\n",
              "      <th>0</th>\n",
              "      <td>15-1031.00</td>\n",
              "    </tr>\n",
              "    <tr>\n",
              "      <th>1</th>\n",
              "      <td>47-4041.00</td>\n",
              "    </tr>\n",
              "    <tr>\n",
              "      <th>2</th>\n",
              "      <td>17-2051.00</td>\n",
              "    </tr>\n",
              "    <tr>\n",
              "      <th>3</th>\n",
              "      <td>43-4071.00</td>\n",
              "    </tr>\n",
              "    <tr>\n",
              "      <th>4</th>\n",
              "      <td>41-9031.00</td>\n",
              "    </tr>\n",
              "  </tbody>\n",
              "</table>\n",
              "</div><br><label><b>dtype:</b> object</label>"
            ]
          },
          "metadata": {},
          "execution_count": 168
        }
      ]
    },
    {
      "cell_type": "code",
      "source": [
        "df['pw_soc_code'] = df['pw_soc_code'].str.replace('.', '')\n",
        "df['pw_soc_code'] = df['pw_soc_code'].str.replace('-', '')\n",
        "df['pw_soc_code'] = df['pw_soc_code'].astype(str).str[0:6]\n",
        "df['pw_soc_code'].value_counts()\n",
        "\n",
        "#Finding \"nan\", \"none\" values in \"pw_soc_code\" column and filling them with mode\n",
        "df.loc[df['pw_soc_code'] == \"nan\", 'pw_soc_code'] = df['pw_soc_code'].mode()[0]\n",
        "df.loc[df['pw_soc_code'] == \"none\", 'pw_soc_code'] = df['pw_soc_code'].mode()[0]\n",
        "\n",
        "#Changing type from string to int\n",
        "df['pw_soc_code'] = df['pw_soc_code'].astype(int)\n",
        "df['case_status'] = df['case_status'].astype(int)\n"
      ],
      "metadata": {
        "id": "d0juC4e4CWsY"
      },
      "execution_count": 169,
      "outputs": []
    },
    {
      "cell_type": "code",
      "source": [
        "df['pw_soc_code'].head()"
      ],
      "metadata": {
        "colab": {
          "base_uri": "https://localhost:8080/",
          "height": 241
        },
        "id": "uwKyQRW7Gc_F",
        "outputId": "eb7bee47-cae0-4a1e-ff8e-39fa308a579a"
      },
      "execution_count": 170,
      "outputs": [
        {
          "output_type": "execute_result",
          "data": {
            "text/plain": [
              "0    151031\n",
              "1    474041\n",
              "2    172051\n",
              "3    434071\n",
              "4    419031\n",
              "Name: pw_soc_code, dtype: int64"
            ],
            "text/html": [
              "<div>\n",
              "<style scoped>\n",
              "    .dataframe tbody tr th:only-of-type {\n",
              "        vertical-align: middle;\n",
              "    }\n",
              "\n",
              "    .dataframe tbody tr th {\n",
              "        vertical-align: top;\n",
              "    }\n",
              "\n",
              "    .dataframe thead th {\n",
              "        text-align: right;\n",
              "    }\n",
              "</style>\n",
              "<table border=\"1\" class=\"dataframe\">\n",
              "  <thead>\n",
              "    <tr style=\"text-align: right;\">\n",
              "      <th></th>\n",
              "      <th>pw_soc_code</th>\n",
              "    </tr>\n",
              "  </thead>\n",
              "  <tbody>\n",
              "    <tr>\n",
              "      <th>0</th>\n",
              "      <td>151031</td>\n",
              "    </tr>\n",
              "    <tr>\n",
              "      <th>1</th>\n",
              "      <td>474041</td>\n",
              "    </tr>\n",
              "    <tr>\n",
              "      <th>2</th>\n",
              "      <td>172051</td>\n",
              "    </tr>\n",
              "    <tr>\n",
              "      <th>3</th>\n",
              "      <td>434071</td>\n",
              "    </tr>\n",
              "    <tr>\n",
              "      <th>4</th>\n",
              "      <td>419031</td>\n",
              "    </tr>\n",
              "  </tbody>\n",
              "</table>\n",
              "</div><br><label><b>dtype:</b> int64</label>"
            ]
          },
          "metadata": {},
          "execution_count": 170
        }
      ]
    },
    {
      "cell_type": "code",
      "source": [
        "#missing value treatment for other columns\n",
        "\n",
        "#Replacing missing values with mode\n",
        "df['class_of_admission']=df['class_of_admission'].fillna((df['class_of_admission'].mode()[0]))\n",
        "df['country_of_citizenship']=df['country_of_citizenship'].fillna((df['country_of_citizenship'].mode()[0]))\n",
        "df['employer_city']=df['employer_city'].fillna((df['employer_city'].mode()[0]))\n",
        "df['employer_name']=df['employer_name'].fillna((df['employer_name'].mode()[0]))\n",
        "df['employer_name']=df['employer_name'].astype(str).str.upper()\n",
        "df['pw_source_name_9089']=df['pw_source_name_9089'].fillna((df['pw_source_name_9089'].mode()[0]))\n"
      ],
      "metadata": {
        "id": "vId6DoKPGgNT"
      },
      "execution_count": 171,
      "outputs": []
    },
    {
      "cell_type": "code",
      "source": [
        "df.info()"
      ],
      "metadata": {
        "colab": {
          "base_uri": "https://localhost:8080/"
        },
        "id": "NtYHEGR2IBPt",
        "outputId": "b8d80c78-454a-4f93-94c1-aace0d8bb292"
      },
      "execution_count": 172,
      "outputs": [
        {
          "output_type": "stream",
          "name": "stdout",
          "text": [
            "<class 'pandas.core.frame.DataFrame'>\n",
            "Index: 356168 entries, 0 to 374353\n",
            "Data columns (total 18 columns):\n",
            " #   Column                  Non-Null Count   Dtype         \n",
            "---  ------                  --------------   -----         \n",
            " 0   case_status             356168 non-null  int64         \n",
            " 1   class_of_admission      356168 non-null  object        \n",
            " 2   country_of_citizenship  356168 non-null  category      \n",
            " 3   decision_date           356168 non-null  datetime64[ns]\n",
            " 4   employer_address_1      356131 non-null  object        \n",
            " 5   employer_city           356168 non-null  object        \n",
            " 6   employer_name           356168 non-null  object        \n",
            " 7   employer_postal_code    356135 non-null  object        \n",
            " 8   employer_state          356168 non-null  object        \n",
            " 9   job_info_work_city      356073 non-null  object        \n",
            " 10  job_info_work_state     356072 non-null  object        \n",
            " 11  pw_amount_9089          353965 non-null  object        \n",
            " 12  pw_soc_code             356168 non-null  int64         \n",
            " 13  pw_soc_title            353847 non-null  object        \n",
            " 14  pw_source_name_9089     356168 non-null  object        \n",
            " 15  pw_unit_of_pay_9089     354687 non-null  object        \n",
            " 16  casenumber              356168 non-null  object        \n",
            " 17  year                    356168 non-null  int32         \n",
            "dtypes: category(1), datetime64[ns](1), int32(1), int64(2), object(13)\n",
            "memory usage: 48.2+ MB\n"
          ]
        }
      ]
    },
    {
      "cell_type": "code",
      "source": [
        "# Convert the column containing numerical values with commas to numeric format\n",
        "df['pw_amount_9089'] = df['pw_amount_9089'].str.replace(',', '').astype(float)\n",
        "\n",
        "# Now, you can replace null values in the numerical column with the median\n",
        "median_pw_amount = df['pw_amount_9089'].median()\n",
        "df['pw_amount_9089'].fillna(median_pw_amount, inplace=True)\n",
        "\n",
        "# Verify that there are no more null values\n",
        "print(df.isnull().sum())"
      ],
      "metadata": {
        "colab": {
          "base_uri": "https://localhost:8080/"
        },
        "id": "Ra3N2xj5Ja9R",
        "outputId": "52e98181-8f0f-4d91-f318-9c9fa5a1155c"
      },
      "execution_count": 173,
      "outputs": [
        {
          "output_type": "stream",
          "name": "stdout",
          "text": [
            "case_status                  0\n",
            "class_of_admission           0\n",
            "country_of_citizenship       0\n",
            "decision_date                0\n",
            "employer_address_1          37\n",
            "employer_city                0\n",
            "employer_name                0\n",
            "employer_postal_code        33\n",
            "employer_state               0\n",
            "job_info_work_city          95\n",
            "job_info_work_state         96\n",
            "pw_amount_9089               0\n",
            "pw_soc_code                  0\n",
            "pw_soc_title              2321\n",
            "pw_source_name_9089          0\n",
            "pw_unit_of_pay_9089       1481\n",
            "casenumber                   0\n",
            "year                         0\n",
            "dtype: int64\n"
          ]
        }
      ]
    },
    {
      "cell_type": "code",
      "source": [
        "#Indices of selected features for categorcal data to do encoding\n",
        "choose_attrs = [0,1,2,5,6,8,12,14,17]\n",
        "df = df.iloc[:,choose_attrs ]"
      ],
      "metadata": {
        "id": "6lO0yPK-Kskf"
      },
      "execution_count": 174,
      "outputs": []
    },
    {
      "cell_type": "code",
      "source": [
        "df.head()"
      ],
      "metadata": {
        "colab": {
          "base_uri": "https://localhost:8080/",
          "height": 382
        },
        "id": "vyRxeEhKM0kO",
        "outputId": "e0a7110c-7c57-4b6c-f3f9-58835708cc44"
      },
      "execution_count": 177,
      "outputs": [
        {
          "output_type": "execute_result",
          "data": {
            "text/plain": [
              "   case_status class_of_admission country_of_citizenship employer_city  \\\n",
              "0            1                J-1                  INDIA      NEW YORK   \n",
              "1            0                B-2                  INDIA     CARLSTADT   \n",
              "2            1               H-1B                  INDIA    GLEN ALLEN   \n",
              "3            1                B-2                  INDIA      FLUSHING   \n",
              "4            1                L-1                  INDIA        ALBANY   \n",
              "\n",
              "                 employer_name employer_state  pw_soc_code  \\\n",
              "0             NETSOFT USA INC.             NY       151031   \n",
              "1  PINNACLE ENVIRONEMNTAL CORP             NY       474041   \n",
              "2   SCHNABEL ENGINEERING, INC.             VA       172051   \n",
              "3      EBENEZER MISSION CHURCH             NY       434071   \n",
              "4   ALBANY INTERNATIONAL CORP.             NY       419031   \n",
              "\n",
              "  pw_source_name_9089  year  \n",
              "0                 OES  2012  \n",
              "1                 OES  2011  \n",
              "2                 OES  2011  \n",
              "3                 OES  2011  \n",
              "4                 OES  2012  "
            ],
            "text/html": [
              "\n",
              "  <div id=\"df-8e18c794-6e68-452d-a0a4-a7582ce2af58\" class=\"colab-df-container\">\n",
              "    <div>\n",
              "<style scoped>\n",
              "    .dataframe tbody tr th:only-of-type {\n",
              "        vertical-align: middle;\n",
              "    }\n",
              "\n",
              "    .dataframe tbody tr th {\n",
              "        vertical-align: top;\n",
              "    }\n",
              "\n",
              "    .dataframe thead th {\n",
              "        text-align: right;\n",
              "    }\n",
              "</style>\n",
              "<table border=\"1\" class=\"dataframe\">\n",
              "  <thead>\n",
              "    <tr style=\"text-align: right;\">\n",
              "      <th></th>\n",
              "      <th>case_status</th>\n",
              "      <th>class_of_admission</th>\n",
              "      <th>country_of_citizenship</th>\n",
              "      <th>employer_city</th>\n",
              "      <th>employer_name</th>\n",
              "      <th>employer_state</th>\n",
              "      <th>pw_soc_code</th>\n",
              "      <th>pw_source_name_9089</th>\n",
              "      <th>year</th>\n",
              "    </tr>\n",
              "  </thead>\n",
              "  <tbody>\n",
              "    <tr>\n",
              "      <th>0</th>\n",
              "      <td>1</td>\n",
              "      <td>J-1</td>\n",
              "      <td>INDIA</td>\n",
              "      <td>NEW YORK</td>\n",
              "      <td>NETSOFT USA INC.</td>\n",
              "      <td>NY</td>\n",
              "      <td>151031</td>\n",
              "      <td>OES</td>\n",
              "      <td>2012</td>\n",
              "    </tr>\n",
              "    <tr>\n",
              "      <th>1</th>\n",
              "      <td>0</td>\n",
              "      <td>B-2</td>\n",
              "      <td>INDIA</td>\n",
              "      <td>CARLSTADT</td>\n",
              "      <td>PINNACLE ENVIRONEMNTAL CORP</td>\n",
              "      <td>NY</td>\n",
              "      <td>474041</td>\n",
              "      <td>OES</td>\n",
              "      <td>2011</td>\n",
              "    </tr>\n",
              "    <tr>\n",
              "      <th>2</th>\n",
              "      <td>1</td>\n",
              "      <td>H-1B</td>\n",
              "      <td>INDIA</td>\n",
              "      <td>GLEN ALLEN</td>\n",
              "      <td>SCHNABEL ENGINEERING, INC.</td>\n",
              "      <td>VA</td>\n",
              "      <td>172051</td>\n",
              "      <td>OES</td>\n",
              "      <td>2011</td>\n",
              "    </tr>\n",
              "    <tr>\n",
              "      <th>3</th>\n",
              "      <td>1</td>\n",
              "      <td>B-2</td>\n",
              "      <td>INDIA</td>\n",
              "      <td>FLUSHING</td>\n",
              "      <td>EBENEZER MISSION CHURCH</td>\n",
              "      <td>NY</td>\n",
              "      <td>434071</td>\n",
              "      <td>OES</td>\n",
              "      <td>2011</td>\n",
              "    </tr>\n",
              "    <tr>\n",
              "      <th>4</th>\n",
              "      <td>1</td>\n",
              "      <td>L-1</td>\n",
              "      <td>INDIA</td>\n",
              "      <td>ALBANY</td>\n",
              "      <td>ALBANY INTERNATIONAL CORP.</td>\n",
              "      <td>NY</td>\n",
              "      <td>419031</td>\n",
              "      <td>OES</td>\n",
              "      <td>2012</td>\n",
              "    </tr>\n",
              "  </tbody>\n",
              "</table>\n",
              "</div>\n",
              "    <div class=\"colab-df-buttons\">\n",
              "\n",
              "  <div class=\"colab-df-container\">\n",
              "    <button class=\"colab-df-convert\" onclick=\"convertToInteractive('df-8e18c794-6e68-452d-a0a4-a7582ce2af58')\"\n",
              "            title=\"Convert this dataframe to an interactive table.\"\n",
              "            style=\"display:none;\">\n",
              "\n",
              "  <svg xmlns=\"http://www.w3.org/2000/svg\" height=\"24px\" viewBox=\"0 -960 960 960\">\n",
              "    <path d=\"M120-120v-720h720v720H120Zm60-500h600v-160H180v160Zm220 220h160v-160H400v160Zm0 220h160v-160H400v160ZM180-400h160v-160H180v160Zm440 0h160v-160H620v160ZM180-180h160v-160H180v160Zm440 0h160v-160H620v160Z\"/>\n",
              "  </svg>\n",
              "    </button>\n",
              "\n",
              "  <style>\n",
              "    .colab-df-container {\n",
              "      display:flex;\n",
              "      gap: 12px;\n",
              "    }\n",
              "\n",
              "    .colab-df-convert {\n",
              "      background-color: #E8F0FE;\n",
              "      border: none;\n",
              "      border-radius: 50%;\n",
              "      cursor: pointer;\n",
              "      display: none;\n",
              "      fill: #1967D2;\n",
              "      height: 32px;\n",
              "      padding: 0 0 0 0;\n",
              "      width: 32px;\n",
              "    }\n",
              "\n",
              "    .colab-df-convert:hover {\n",
              "      background-color: #E2EBFA;\n",
              "      box-shadow: 0px 1px 2px rgba(60, 64, 67, 0.3), 0px 1px 3px 1px rgba(60, 64, 67, 0.15);\n",
              "      fill: #174EA6;\n",
              "    }\n",
              "\n",
              "    .colab-df-buttons div {\n",
              "      margin-bottom: 4px;\n",
              "    }\n",
              "\n",
              "    [theme=dark] .colab-df-convert {\n",
              "      background-color: #3B4455;\n",
              "      fill: #D2E3FC;\n",
              "    }\n",
              "\n",
              "    [theme=dark] .colab-df-convert:hover {\n",
              "      background-color: #434B5C;\n",
              "      box-shadow: 0px 1px 3px 1px rgba(0, 0, 0, 0.15);\n",
              "      filter: drop-shadow(0px 1px 2px rgba(0, 0, 0, 0.3));\n",
              "      fill: #FFFFFF;\n",
              "    }\n",
              "  </style>\n",
              "\n",
              "    <script>\n",
              "      const buttonEl =\n",
              "        document.querySelector('#df-8e18c794-6e68-452d-a0a4-a7582ce2af58 button.colab-df-convert');\n",
              "      buttonEl.style.display =\n",
              "        google.colab.kernel.accessAllowed ? 'block' : 'none';\n",
              "\n",
              "      async function convertToInteractive(key) {\n",
              "        const element = document.querySelector('#df-8e18c794-6e68-452d-a0a4-a7582ce2af58');\n",
              "        const dataTable =\n",
              "          await google.colab.kernel.invokeFunction('convertToInteractive',\n",
              "                                                    [key], {});\n",
              "        if (!dataTable) return;\n",
              "\n",
              "        const docLinkHtml = 'Like what you see? Visit the ' +\n",
              "          '<a target=\"_blank\" href=https://colab.research.google.com/notebooks/data_table.ipynb>data table notebook</a>'\n",
              "          + ' to learn more about interactive tables.';\n",
              "        element.innerHTML = '';\n",
              "        dataTable['output_type'] = 'display_data';\n",
              "        await google.colab.output.renderOutput(dataTable, element);\n",
              "        const docLink = document.createElement('div');\n",
              "        docLink.innerHTML = docLinkHtml;\n",
              "        element.appendChild(docLink);\n",
              "      }\n",
              "    </script>\n",
              "  </div>\n",
              "\n",
              "\n",
              "<div id=\"df-f5e3eee5-c844-4138-bcc9-6f81142df245\">\n",
              "  <button class=\"colab-df-quickchart\" onclick=\"quickchart('df-f5e3eee5-c844-4138-bcc9-6f81142df245')\"\n",
              "            title=\"Suggest charts\"\n",
              "            style=\"display:none;\">\n",
              "\n",
              "<svg xmlns=\"http://www.w3.org/2000/svg\" height=\"24px\"viewBox=\"0 0 24 24\"\n",
              "     width=\"24px\">\n",
              "    <g>\n",
              "        <path d=\"M19 3H5c-1.1 0-2 .9-2 2v14c0 1.1.9 2 2 2h14c1.1 0 2-.9 2-2V5c0-1.1-.9-2-2-2zM9 17H7v-7h2v7zm4 0h-2V7h2v10zm4 0h-2v-4h2v4z\"/>\n",
              "    </g>\n",
              "</svg>\n",
              "  </button>\n",
              "\n",
              "<style>\n",
              "  .colab-df-quickchart {\n",
              "      --bg-color: #E8F0FE;\n",
              "      --fill-color: #1967D2;\n",
              "      --hover-bg-color: #E2EBFA;\n",
              "      --hover-fill-color: #174EA6;\n",
              "      --disabled-fill-color: #AAA;\n",
              "      --disabled-bg-color: #DDD;\n",
              "  }\n",
              "\n",
              "  [theme=dark] .colab-df-quickchart {\n",
              "      --bg-color: #3B4455;\n",
              "      --fill-color: #D2E3FC;\n",
              "      --hover-bg-color: #434B5C;\n",
              "      --hover-fill-color: #FFFFFF;\n",
              "      --disabled-bg-color: #3B4455;\n",
              "      --disabled-fill-color: #666;\n",
              "  }\n",
              "\n",
              "  .colab-df-quickchart {\n",
              "    background-color: var(--bg-color);\n",
              "    border: none;\n",
              "    border-radius: 50%;\n",
              "    cursor: pointer;\n",
              "    display: none;\n",
              "    fill: var(--fill-color);\n",
              "    height: 32px;\n",
              "    padding: 0;\n",
              "    width: 32px;\n",
              "  }\n",
              "\n",
              "  .colab-df-quickchart:hover {\n",
              "    background-color: var(--hover-bg-color);\n",
              "    box-shadow: 0 1px 2px rgba(60, 64, 67, 0.3), 0 1px 3px 1px rgba(60, 64, 67, 0.15);\n",
              "    fill: var(--button-hover-fill-color);\n",
              "  }\n",
              "\n",
              "  .colab-df-quickchart-complete:disabled,\n",
              "  .colab-df-quickchart-complete:disabled:hover {\n",
              "    background-color: var(--disabled-bg-color);\n",
              "    fill: var(--disabled-fill-color);\n",
              "    box-shadow: none;\n",
              "  }\n",
              "\n",
              "  .colab-df-spinner {\n",
              "    border: 2px solid var(--fill-color);\n",
              "    border-color: transparent;\n",
              "    border-bottom-color: var(--fill-color);\n",
              "    animation:\n",
              "      spin 1s steps(1) infinite;\n",
              "  }\n",
              "\n",
              "  @keyframes spin {\n",
              "    0% {\n",
              "      border-color: transparent;\n",
              "      border-bottom-color: var(--fill-color);\n",
              "      border-left-color: var(--fill-color);\n",
              "    }\n",
              "    20% {\n",
              "      border-color: transparent;\n",
              "      border-left-color: var(--fill-color);\n",
              "      border-top-color: var(--fill-color);\n",
              "    }\n",
              "    30% {\n",
              "      border-color: transparent;\n",
              "      border-left-color: var(--fill-color);\n",
              "      border-top-color: var(--fill-color);\n",
              "      border-right-color: var(--fill-color);\n",
              "    }\n",
              "    40% {\n",
              "      border-color: transparent;\n",
              "      border-right-color: var(--fill-color);\n",
              "      border-top-color: var(--fill-color);\n",
              "    }\n",
              "    60% {\n",
              "      border-color: transparent;\n",
              "      border-right-color: var(--fill-color);\n",
              "    }\n",
              "    80% {\n",
              "      border-color: transparent;\n",
              "      border-right-color: var(--fill-color);\n",
              "      border-bottom-color: var(--fill-color);\n",
              "    }\n",
              "    90% {\n",
              "      border-color: transparent;\n",
              "      border-bottom-color: var(--fill-color);\n",
              "    }\n",
              "  }\n",
              "</style>\n",
              "\n",
              "  <script>\n",
              "    async function quickchart(key) {\n",
              "      const quickchartButtonEl =\n",
              "        document.querySelector('#' + key + ' button');\n",
              "      quickchartButtonEl.disabled = true;  // To prevent multiple clicks.\n",
              "      quickchartButtonEl.classList.add('colab-df-spinner');\n",
              "      try {\n",
              "        const charts = await google.colab.kernel.invokeFunction(\n",
              "            'suggestCharts', [key], {});\n",
              "      } catch (error) {\n",
              "        console.error('Error during call to suggestCharts:', error);\n",
              "      }\n",
              "      quickchartButtonEl.classList.remove('colab-df-spinner');\n",
              "      quickchartButtonEl.classList.add('colab-df-quickchart-complete');\n",
              "    }\n",
              "    (() => {\n",
              "      let quickchartButtonEl =\n",
              "        document.querySelector('#df-f5e3eee5-c844-4138-bcc9-6f81142df245 button');\n",
              "      quickchartButtonEl.style.display =\n",
              "        google.colab.kernel.accessAllowed ? 'block' : 'none';\n",
              "    })();\n",
              "  </script>\n",
              "</div>\n",
              "\n",
              "    </div>\n",
              "  </div>\n"
            ],
            "application/vnd.google.colaboratory.intrinsic+json": {
              "type": "dataframe",
              "variable_name": "df"
            }
          },
          "metadata": {},
          "execution_count": 177
        }
      ]
    },
    {
      "cell_type": "markdown",
      "source": [
        "#**Encoding**"
      ],
      "metadata": {
        "id": "zijR_JMLdzqO"
      }
    },
    {
      "cell_type": "code",
      "source": [
        "from sklearn.preprocessing import LabelEncoder"
      ],
      "metadata": {
        "id": "ZZr83p2VNABZ"
      },
      "execution_count": 179,
      "outputs": []
    },
    {
      "cell_type": "code",
      "source": [
        "catergorical_variables = {}\n",
        "\n",
        "#Creating categories denoted by integers from column values\n",
        "for col in df.columns:\n",
        "  cat_var_name = \"cat_\" + col\n",
        "  cat_var_name = LabelEncoder()\n",
        "  cat_var_name.fit(df[col])\n",
        "  df[col] = cat_var_name.transform(df[col])\n",
        "  catergorical_variables = cat_var_name"
      ],
      "metadata": {
        "id": "3jbgdCygNGui"
      },
      "execution_count": 180,
      "outputs": []
    },
    {
      "cell_type": "code",
      "source": [
        "df.info()"
      ],
      "metadata": {
        "colab": {
          "base_uri": "https://localhost:8080/"
        },
        "id": "EacSlAcTNsTp",
        "outputId": "23217a07-08ff-4e4a-bc4b-6f1a5baab324"
      },
      "execution_count": 181,
      "outputs": [
        {
          "output_type": "stream",
          "name": "stdout",
          "text": [
            "<class 'pandas.core.frame.DataFrame'>\n",
            "Index: 356168 entries, 0 to 374353\n",
            "Data columns (total 9 columns):\n",
            " #   Column                  Non-Null Count   Dtype\n",
            "---  ------                  --------------   -----\n",
            " 0   case_status             356168 non-null  int64\n",
            " 1   class_of_admission      356168 non-null  int64\n",
            " 2   country_of_citizenship  356168 non-null  int64\n",
            " 3   employer_city           356168 non-null  int64\n",
            " 4   employer_name           356168 non-null  int64\n",
            " 5   employer_state          356168 non-null  int64\n",
            " 6   pw_soc_code             356168 non-null  int64\n",
            " 7   pw_source_name_9089     356168 non-null  int64\n",
            " 8   year                    356168 non-null  int64\n",
            "dtypes: int64(9)\n",
            "memory usage: 27.2 MB\n"
          ]
        }
      ]
    },
    {
      "cell_type": "code",
      "source": [
        "df"
      ],
      "metadata": {
        "colab": {
          "base_uri": "https://localhost:8080/",
          "height": 443
        },
        "id": "RBDWnfCQNu3S",
        "outputId": "23987791-5be2-46c2-fa2d-ff5a68fcae3e"
      },
      "execution_count": 182,
      "outputs": [
        {
          "output_type": "execute_result",
          "data": {
            "text/plain": [
              "        case_status  class_of_admission  country_of_citizenship  \\\n",
              "0                 1                  28                      79   \n",
              "1                 0                   5                      79   \n",
              "2                 1                  19                      79   \n",
              "3                 1                   5                      79   \n",
              "4                 1                  31                      79   \n",
              "...             ...                 ...                     ...   \n",
              "374349            1                  19                      79   \n",
              "374350            1                  19                      79   \n",
              "374351            1                  31                      79   \n",
              "374352            1                  19                      79   \n",
              "374353            1                  19                      79   \n",
              "\n",
              "        employer_city  employer_name  employer_state  pw_soc_code  \\\n",
              "0                3506          42973              40           76   \n",
              "1                 749          47896              40          592   \n",
              "2                1897          54186              52          122   \n",
              "3                1694          18698              40          511   \n",
              "4                  53           2602              40          493   \n",
              "...               ...            ...             ...          ...   \n",
              "374349           2190          48352              21           96   \n",
              "374350           3173          55538              41           96   \n",
              "374351           4476          24596               6           93   \n",
              "374352           3506          16913              40           94   \n",
              "374353           3987          21918              37           52   \n",
              "\n",
              "        pw_source_name_9089  year  \n",
              "0                         3     1  \n",
              "1                         3     0  \n",
              "2                         3     0  \n",
              "3                         3     0  \n",
              "4                         3     1  \n",
              "...                     ...   ...  \n",
              "374349                    3     5  \n",
              "374350                    3     5  \n",
              "374351                    3     5  \n",
              "374352                    4     5  \n",
              "374353                    3     5  \n",
              "\n",
              "[356168 rows x 9 columns]"
            ],
            "text/html": [
              "\n",
              "  <div id=\"df-398ac84d-0c25-4d93-a401-2897a50a4315\" class=\"colab-df-container\">\n",
              "    <div>\n",
              "<style scoped>\n",
              "    .dataframe tbody tr th:only-of-type {\n",
              "        vertical-align: middle;\n",
              "    }\n",
              "\n",
              "    .dataframe tbody tr th {\n",
              "        vertical-align: top;\n",
              "    }\n",
              "\n",
              "    .dataframe thead th {\n",
              "        text-align: right;\n",
              "    }\n",
              "</style>\n",
              "<table border=\"1\" class=\"dataframe\">\n",
              "  <thead>\n",
              "    <tr style=\"text-align: right;\">\n",
              "      <th></th>\n",
              "      <th>case_status</th>\n",
              "      <th>class_of_admission</th>\n",
              "      <th>country_of_citizenship</th>\n",
              "      <th>employer_city</th>\n",
              "      <th>employer_name</th>\n",
              "      <th>employer_state</th>\n",
              "      <th>pw_soc_code</th>\n",
              "      <th>pw_source_name_9089</th>\n",
              "      <th>year</th>\n",
              "    </tr>\n",
              "  </thead>\n",
              "  <tbody>\n",
              "    <tr>\n",
              "      <th>0</th>\n",
              "      <td>1</td>\n",
              "      <td>28</td>\n",
              "      <td>79</td>\n",
              "      <td>3506</td>\n",
              "      <td>42973</td>\n",
              "      <td>40</td>\n",
              "      <td>76</td>\n",
              "      <td>3</td>\n",
              "      <td>1</td>\n",
              "    </tr>\n",
              "    <tr>\n",
              "      <th>1</th>\n",
              "      <td>0</td>\n",
              "      <td>5</td>\n",
              "      <td>79</td>\n",
              "      <td>749</td>\n",
              "      <td>47896</td>\n",
              "      <td>40</td>\n",
              "      <td>592</td>\n",
              "      <td>3</td>\n",
              "      <td>0</td>\n",
              "    </tr>\n",
              "    <tr>\n",
              "      <th>2</th>\n",
              "      <td>1</td>\n",
              "      <td>19</td>\n",
              "      <td>79</td>\n",
              "      <td>1897</td>\n",
              "      <td>54186</td>\n",
              "      <td>52</td>\n",
              "      <td>122</td>\n",
              "      <td>3</td>\n",
              "      <td>0</td>\n",
              "    </tr>\n",
              "    <tr>\n",
              "      <th>3</th>\n",
              "      <td>1</td>\n",
              "      <td>5</td>\n",
              "      <td>79</td>\n",
              "      <td>1694</td>\n",
              "      <td>18698</td>\n",
              "      <td>40</td>\n",
              "      <td>511</td>\n",
              "      <td>3</td>\n",
              "      <td>0</td>\n",
              "    </tr>\n",
              "    <tr>\n",
              "      <th>4</th>\n",
              "      <td>1</td>\n",
              "      <td>31</td>\n",
              "      <td>79</td>\n",
              "      <td>53</td>\n",
              "      <td>2602</td>\n",
              "      <td>40</td>\n",
              "      <td>493</td>\n",
              "      <td>3</td>\n",
              "      <td>1</td>\n",
              "    </tr>\n",
              "    <tr>\n",
              "      <th>...</th>\n",
              "      <td>...</td>\n",
              "      <td>...</td>\n",
              "      <td>...</td>\n",
              "      <td>...</td>\n",
              "      <td>...</td>\n",
              "      <td>...</td>\n",
              "      <td>...</td>\n",
              "      <td>...</td>\n",
              "      <td>...</td>\n",
              "    </tr>\n",
              "    <tr>\n",
              "      <th>374349</th>\n",
              "      <td>1</td>\n",
              "      <td>19</td>\n",
              "      <td>79</td>\n",
              "      <td>2190</td>\n",
              "      <td>48352</td>\n",
              "      <td>21</td>\n",
              "      <td>96</td>\n",
              "      <td>3</td>\n",
              "      <td>5</td>\n",
              "    </tr>\n",
              "    <tr>\n",
              "      <th>374350</th>\n",
              "      <td>1</td>\n",
              "      <td>19</td>\n",
              "      <td>79</td>\n",
              "      <td>3173</td>\n",
              "      <td>55538</td>\n",
              "      <td>41</td>\n",
              "      <td>96</td>\n",
              "      <td>3</td>\n",
              "      <td>5</td>\n",
              "    </tr>\n",
              "    <tr>\n",
              "      <th>374351</th>\n",
              "      <td>1</td>\n",
              "      <td>31</td>\n",
              "      <td>79</td>\n",
              "      <td>4476</td>\n",
              "      <td>24596</td>\n",
              "      <td>6</td>\n",
              "      <td>93</td>\n",
              "      <td>3</td>\n",
              "      <td>5</td>\n",
              "    </tr>\n",
              "    <tr>\n",
              "      <th>374352</th>\n",
              "      <td>1</td>\n",
              "      <td>19</td>\n",
              "      <td>79</td>\n",
              "      <td>3506</td>\n",
              "      <td>16913</td>\n",
              "      <td>40</td>\n",
              "      <td>94</td>\n",
              "      <td>4</td>\n",
              "      <td>5</td>\n",
              "    </tr>\n",
              "    <tr>\n",
              "      <th>374353</th>\n",
              "      <td>1</td>\n",
              "      <td>19</td>\n",
              "      <td>79</td>\n",
              "      <td>3987</td>\n",
              "      <td>21918</td>\n",
              "      <td>37</td>\n",
              "      <td>52</td>\n",
              "      <td>3</td>\n",
              "      <td>5</td>\n",
              "    </tr>\n",
              "  </tbody>\n",
              "</table>\n",
              "<p>356168 rows × 9 columns</p>\n",
              "</div>\n",
              "    <div class=\"colab-df-buttons\">\n",
              "\n",
              "  <div class=\"colab-df-container\">\n",
              "    <button class=\"colab-df-convert\" onclick=\"convertToInteractive('df-398ac84d-0c25-4d93-a401-2897a50a4315')\"\n",
              "            title=\"Convert this dataframe to an interactive table.\"\n",
              "            style=\"display:none;\">\n",
              "\n",
              "  <svg xmlns=\"http://www.w3.org/2000/svg\" height=\"24px\" viewBox=\"0 -960 960 960\">\n",
              "    <path d=\"M120-120v-720h720v720H120Zm60-500h600v-160H180v160Zm220 220h160v-160H400v160Zm0 220h160v-160H400v160ZM180-400h160v-160H180v160Zm440 0h160v-160H620v160ZM180-180h160v-160H180v160Zm440 0h160v-160H620v160Z\"/>\n",
              "  </svg>\n",
              "    </button>\n",
              "\n",
              "  <style>\n",
              "    .colab-df-container {\n",
              "      display:flex;\n",
              "      gap: 12px;\n",
              "    }\n",
              "\n",
              "    .colab-df-convert {\n",
              "      background-color: #E8F0FE;\n",
              "      border: none;\n",
              "      border-radius: 50%;\n",
              "      cursor: pointer;\n",
              "      display: none;\n",
              "      fill: #1967D2;\n",
              "      height: 32px;\n",
              "      padding: 0 0 0 0;\n",
              "      width: 32px;\n",
              "    }\n",
              "\n",
              "    .colab-df-convert:hover {\n",
              "      background-color: #E2EBFA;\n",
              "      box-shadow: 0px 1px 2px rgba(60, 64, 67, 0.3), 0px 1px 3px 1px rgba(60, 64, 67, 0.15);\n",
              "      fill: #174EA6;\n",
              "    }\n",
              "\n",
              "    .colab-df-buttons div {\n",
              "      margin-bottom: 4px;\n",
              "    }\n",
              "\n",
              "    [theme=dark] .colab-df-convert {\n",
              "      background-color: #3B4455;\n",
              "      fill: #D2E3FC;\n",
              "    }\n",
              "\n",
              "    [theme=dark] .colab-df-convert:hover {\n",
              "      background-color: #434B5C;\n",
              "      box-shadow: 0px 1px 3px 1px rgba(0, 0, 0, 0.15);\n",
              "      filter: drop-shadow(0px 1px 2px rgba(0, 0, 0, 0.3));\n",
              "      fill: #FFFFFF;\n",
              "    }\n",
              "  </style>\n",
              "\n",
              "    <script>\n",
              "      const buttonEl =\n",
              "        document.querySelector('#df-398ac84d-0c25-4d93-a401-2897a50a4315 button.colab-df-convert');\n",
              "      buttonEl.style.display =\n",
              "        google.colab.kernel.accessAllowed ? 'block' : 'none';\n",
              "\n",
              "      async function convertToInteractive(key) {\n",
              "        const element = document.querySelector('#df-398ac84d-0c25-4d93-a401-2897a50a4315');\n",
              "        const dataTable =\n",
              "          await google.colab.kernel.invokeFunction('convertToInteractive',\n",
              "                                                    [key], {});\n",
              "        if (!dataTable) return;\n",
              "\n",
              "        const docLinkHtml = 'Like what you see? Visit the ' +\n",
              "          '<a target=\"_blank\" href=https://colab.research.google.com/notebooks/data_table.ipynb>data table notebook</a>'\n",
              "          + ' to learn more about interactive tables.';\n",
              "        element.innerHTML = '';\n",
              "        dataTable['output_type'] = 'display_data';\n",
              "        await google.colab.output.renderOutput(dataTable, element);\n",
              "        const docLink = document.createElement('div');\n",
              "        docLink.innerHTML = docLinkHtml;\n",
              "        element.appendChild(docLink);\n",
              "      }\n",
              "    </script>\n",
              "  </div>\n",
              "\n",
              "\n",
              "<div id=\"df-5bbbe744-55ab-475f-b021-e8677167da22\">\n",
              "  <button class=\"colab-df-quickchart\" onclick=\"quickchart('df-5bbbe744-55ab-475f-b021-e8677167da22')\"\n",
              "            title=\"Suggest charts\"\n",
              "            style=\"display:none;\">\n",
              "\n",
              "<svg xmlns=\"http://www.w3.org/2000/svg\" height=\"24px\"viewBox=\"0 0 24 24\"\n",
              "     width=\"24px\">\n",
              "    <g>\n",
              "        <path d=\"M19 3H5c-1.1 0-2 .9-2 2v14c0 1.1.9 2 2 2h14c1.1 0 2-.9 2-2V5c0-1.1-.9-2-2-2zM9 17H7v-7h2v7zm4 0h-2V7h2v10zm4 0h-2v-4h2v4z\"/>\n",
              "    </g>\n",
              "</svg>\n",
              "  </button>\n",
              "\n",
              "<style>\n",
              "  .colab-df-quickchart {\n",
              "      --bg-color: #E8F0FE;\n",
              "      --fill-color: #1967D2;\n",
              "      --hover-bg-color: #E2EBFA;\n",
              "      --hover-fill-color: #174EA6;\n",
              "      --disabled-fill-color: #AAA;\n",
              "      --disabled-bg-color: #DDD;\n",
              "  }\n",
              "\n",
              "  [theme=dark] .colab-df-quickchart {\n",
              "      --bg-color: #3B4455;\n",
              "      --fill-color: #D2E3FC;\n",
              "      --hover-bg-color: #434B5C;\n",
              "      --hover-fill-color: #FFFFFF;\n",
              "      --disabled-bg-color: #3B4455;\n",
              "      --disabled-fill-color: #666;\n",
              "  }\n",
              "\n",
              "  .colab-df-quickchart {\n",
              "    background-color: var(--bg-color);\n",
              "    border: none;\n",
              "    border-radius: 50%;\n",
              "    cursor: pointer;\n",
              "    display: none;\n",
              "    fill: var(--fill-color);\n",
              "    height: 32px;\n",
              "    padding: 0;\n",
              "    width: 32px;\n",
              "  }\n",
              "\n",
              "  .colab-df-quickchart:hover {\n",
              "    background-color: var(--hover-bg-color);\n",
              "    box-shadow: 0 1px 2px rgba(60, 64, 67, 0.3), 0 1px 3px 1px rgba(60, 64, 67, 0.15);\n",
              "    fill: var(--button-hover-fill-color);\n",
              "  }\n",
              "\n",
              "  .colab-df-quickchart-complete:disabled,\n",
              "  .colab-df-quickchart-complete:disabled:hover {\n",
              "    background-color: var(--disabled-bg-color);\n",
              "    fill: var(--disabled-fill-color);\n",
              "    box-shadow: none;\n",
              "  }\n",
              "\n",
              "  .colab-df-spinner {\n",
              "    border: 2px solid var(--fill-color);\n",
              "    border-color: transparent;\n",
              "    border-bottom-color: var(--fill-color);\n",
              "    animation:\n",
              "      spin 1s steps(1) infinite;\n",
              "  }\n",
              "\n",
              "  @keyframes spin {\n",
              "    0% {\n",
              "      border-color: transparent;\n",
              "      border-bottom-color: var(--fill-color);\n",
              "      border-left-color: var(--fill-color);\n",
              "    }\n",
              "    20% {\n",
              "      border-color: transparent;\n",
              "      border-left-color: var(--fill-color);\n",
              "      border-top-color: var(--fill-color);\n",
              "    }\n",
              "    30% {\n",
              "      border-color: transparent;\n",
              "      border-left-color: var(--fill-color);\n",
              "      border-top-color: var(--fill-color);\n",
              "      border-right-color: var(--fill-color);\n",
              "    }\n",
              "    40% {\n",
              "      border-color: transparent;\n",
              "      border-right-color: var(--fill-color);\n",
              "      border-top-color: var(--fill-color);\n",
              "    }\n",
              "    60% {\n",
              "      border-color: transparent;\n",
              "      border-right-color: var(--fill-color);\n",
              "    }\n",
              "    80% {\n",
              "      border-color: transparent;\n",
              "      border-right-color: var(--fill-color);\n",
              "      border-bottom-color: var(--fill-color);\n",
              "    }\n",
              "    90% {\n",
              "      border-color: transparent;\n",
              "      border-bottom-color: var(--fill-color);\n",
              "    }\n",
              "  }\n",
              "</style>\n",
              "\n",
              "  <script>\n",
              "    async function quickchart(key) {\n",
              "      const quickchartButtonEl =\n",
              "        document.querySelector('#' + key + ' button');\n",
              "      quickchartButtonEl.disabled = true;  // To prevent multiple clicks.\n",
              "      quickchartButtonEl.classList.add('colab-df-spinner');\n",
              "      try {\n",
              "        const charts = await google.colab.kernel.invokeFunction(\n",
              "            'suggestCharts', [key], {});\n",
              "      } catch (error) {\n",
              "        console.error('Error during call to suggestCharts:', error);\n",
              "      }\n",
              "      quickchartButtonEl.classList.remove('colab-df-spinner');\n",
              "      quickchartButtonEl.classList.add('colab-df-quickchart-complete');\n",
              "    }\n",
              "    (() => {\n",
              "      let quickchartButtonEl =\n",
              "        document.querySelector('#df-5bbbe744-55ab-475f-b021-e8677167da22 button');\n",
              "      quickchartButtonEl.style.display =\n",
              "        google.colab.kernel.accessAllowed ? 'block' : 'none';\n",
              "    })();\n",
              "  </script>\n",
              "</div>\n",
              "\n",
              "  <div id=\"id_f5828ec7-b024-40f0-b8f8-e884de58a45a\">\n",
              "    <style>\n",
              "      .colab-df-generate {\n",
              "        background-color: #E8F0FE;\n",
              "        border: none;\n",
              "        border-radius: 50%;\n",
              "        cursor: pointer;\n",
              "        display: none;\n",
              "        fill: #1967D2;\n",
              "        height: 32px;\n",
              "        padding: 0 0 0 0;\n",
              "        width: 32px;\n",
              "      }\n",
              "\n",
              "      .colab-df-generate:hover {\n",
              "        background-color: #E2EBFA;\n",
              "        box-shadow: 0px 1px 2px rgba(60, 64, 67, 0.3), 0px 1px 3px 1px rgba(60, 64, 67, 0.15);\n",
              "        fill: #174EA6;\n",
              "      }\n",
              "\n",
              "      [theme=dark] .colab-df-generate {\n",
              "        background-color: #3B4455;\n",
              "        fill: #D2E3FC;\n",
              "      }\n",
              "\n",
              "      [theme=dark] .colab-df-generate:hover {\n",
              "        background-color: #434B5C;\n",
              "        box-shadow: 0px 1px 3px 1px rgba(0, 0, 0, 0.15);\n",
              "        filter: drop-shadow(0px 1px 2px rgba(0, 0, 0, 0.3));\n",
              "        fill: #FFFFFF;\n",
              "      }\n",
              "    </style>\n",
              "    <button class=\"colab-df-generate\" onclick=\"generateWithVariable('df')\"\n",
              "            title=\"Generate code using this dataframe.\"\n",
              "            style=\"display:none;\">\n",
              "\n",
              "  <svg xmlns=\"http://www.w3.org/2000/svg\" height=\"24px\"viewBox=\"0 0 24 24\"\n",
              "       width=\"24px\">\n",
              "    <path d=\"M7,19H8.4L18.45,9,17,7.55,7,17.6ZM5,21V16.75L18.45,3.32a2,2,0,0,1,2.83,0l1.4,1.43a1.91,1.91,0,0,1,.58,1.4,1.91,1.91,0,0,1-.58,1.4L9.25,21ZM18.45,9,17,7.55Zm-12,3A5.31,5.31,0,0,0,4.9,8.1,5.31,5.31,0,0,0,1,6.5,5.31,5.31,0,0,0,4.9,4.9,5.31,5.31,0,0,0,6.5,1,5.31,5.31,0,0,0,8.1,4.9,5.31,5.31,0,0,0,12,6.5,5.46,5.46,0,0,0,6.5,12Z\"/>\n",
              "  </svg>\n",
              "    </button>\n",
              "    <script>\n",
              "      (() => {\n",
              "      const buttonEl =\n",
              "        document.querySelector('#id_f5828ec7-b024-40f0-b8f8-e884de58a45a button.colab-df-generate');\n",
              "      buttonEl.style.display =\n",
              "        google.colab.kernel.accessAllowed ? 'block' : 'none';\n",
              "\n",
              "      buttonEl.onclick = () => {\n",
              "        google.colab.notebook.generateWithVariable('df');\n",
              "      }\n",
              "      })();\n",
              "    </script>\n",
              "  </div>\n",
              "\n",
              "    </div>\n",
              "  </div>\n"
            ],
            "application/vnd.google.colaboratory.intrinsic+json": {
              "type": "dataframe",
              "variable_name": "df"
            }
          },
          "metadata": {},
          "execution_count": 182
        }
      ]
    },
    {
      "cell_type": "markdown",
      "source": [
        "divide data, train test split and do model training"
      ],
      "metadata": {
        "id": "yV80hUbneVrr"
      }
    }
  ],
  "metadata": {
    "colab": {
      "provenance": []
    },
    "kernelspec": {
      "display_name": "Python 3",
      "name": "python3"
    },
    "language_info": {
      "name": "python"
    }
  },
  "nbformat": 4,
  "nbformat_minor": 0
}